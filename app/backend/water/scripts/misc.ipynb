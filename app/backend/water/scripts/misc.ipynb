{
 "cells": [
  {
   "cell_type": "code",
   "execution_count": 48,
   "metadata": {},
   "outputs": [],
   "source": [
    "# type: ignore\n",
    "\n",
    "import requests\n",
    "import numpy as np\n",
    "from PIL import Image\n",
    "\n",
    "import pandas as pd \n",
    "import geopandas as gpd\n",
    "# import osmnx as ox\n",
    "# import networkx as nx\n",
    "\n",
    "import pyproj\n",
    "from shapely.ops import transform\n",
    "\n",
    "import shapely\n",
    "from shapely import Point\n",
    "\n",
    "# import boto3\n",
    "import os\n",
    "import django\n",
    "\n",
    "pd.set_option('display.precision', 2)\n",
    "\n",
    "os.environ.setdefault(\"DJANGO_SETTINGS_MODULE\", \"water.settings\")\n",
    "os.environ[\"DJANGO_ALLOW_ASYNC_UNSAFE\"] = \"true\"\n",
    "django.setup()\n",
    "\n",
    "from water.models import ReservoirState, Reservoir, ReservoirStateSerializer, RainFall\n",
    "\n",
    "from water.utils import parse as p\n",
    "from django.db.models import Count"
   ]
  },
  {
   "cell_type": "code",
   "execution_count": 64,
   "metadata": {},
   "outputs": [],
   "source": [
    "filename_all = '../../../../data/datasets/all_parsed_cleaned.csv'\n",
    "df_all_raw = pd.read_csv(filename_all).sort_values(['province', 'reservoir', 'ds'])\n",
    "name_df = df_all_raw.reservoir.unique()\n"
   ]
  },
  {
   "cell_type": "code",
   "execution_count": 112,
   "metadata": {},
   "outputs": [],
   "source": [
    "filename_all = '../../../../data/datasets/all_parsed_cleaned.csv'\n",
    "df_all_raw = pd.read_csv(filename_all).sort_values(['province', 'reservoir', 'ds'])\n",
    "name_df = df_all_raw.reservoir.unique()\n",
    "\n",
    "file = '../../../../data/reservoirs/InfGeografica/InfVectorial/Gpkg/Inv_presas_embalses.gpkg'\n",
    "\n",
    "# Open the file in geopandas\n",
    "gdf_raw = gpd.read_file(file)\n",
    "name_geo = gdf_raw[gdf_raw.nombre.notnull()].nombre.unique()\n",
    "\n",
    "replace_vals = ['embalse del ', 'embalse de ', 'embalse ']\n",
    "\n",
    "def clean_name(name):\n",
    "    for val in replace_vals:\n",
    "        name = name.lower().replace(val, '')\n",
    "    return name\n",
    "\n",
    "names_geo_dict = {name: clean_name(name) for name in name_geo}"
   ]
  },
  {
   "cell_type": "code",
   "execution_count": 73,
   "metadata": {},
   "outputs": [
    {
     "data": {
      "text/plain": [
       "array(['beninar', 'cuevas de almanzora', 'almodovar', 'arcos', 'barbate',\n",
       "       'bornos', 'celemin', 'charco redondo', 'guadalcacin',\n",
       "       'guadarranque', 'los hurones', 'zahara', 'zahara - el gastor',\n",
       "       'arenoso', 'bembezar', 'guadalmellato', 'guadanunno', 'iznajar',\n",
       "       'la brenna', 'martin gonzalo', 'puente nuevo', 'retortillo',\n",
       "       'san rafael de navallana', 'sierra boyera', 'yeguas', 'beznar',\n",
       "       'canales', 'colomera', 'cubillas', 'el portillo',\n",
       "       'francisco abellan', 'los bermejales', 'negratin', 'quentar',\n",
       "       'rules', 'san clemente', 'andevalo', 'aracena', 'chanza',\n",
       "       'corumbel bajo', 'jarrama', 'los machos', 'piedras', 'zufre',\n",
       "       'aguascebas', 'dannador', 'giribaile', 'guadalen', 'guadalmena',\n",
       "       'jandula', 'la bolera', 'la fernandina', 'quiebrajano', 'rumblar',\n",
       "       'tranco de beas', 'vadomojon', 'viboras', 'casasola',\n",
       "       'conde de guadalhorce', 'el limonero', 'guadalhorce', 'guadalteba',\n",
       "       'la concepcion', 'la vinnuela', 'cala', 'el agrio', 'el pintado',\n",
       "       'gergal', 'huesna', 'jose toran', 'la minilla', 'melonares',\n",
       "       'puebla de cazalla', 'torre del aguila'], dtype=object)"
      ]
     },
     "execution_count": 73,
     "metadata": {},
     "output_type": "execute_result"
    }
   ],
   "source": [
    "name_df"
   ]
  },
  {
   "cell_type": "code",
   "execution_count": 161,
   "metadata": {},
   "outputs": [
    {
     "data": {
      "text/plain": [
       "{'Embalse de Benínar': 'beninar',\n",
       " 'Embalse de Cuevas de Almanzora': 'cuevas de almanzora',\n",
       " 'Embalse de Almodóvar': 'almodovar',\n",
       " 'Embalse de Arcos': 'arcos',\n",
       " 'Embalse de Barbate': 'barbate',\n",
       " 'Embalse de Bornos': 'bornos',\n",
       " 'Embalse del Celemín': 'celemin',\n",
       " 'Embalse de Charco Redondo': 'charco redondo',\n",
       " 'Embalse de Guadalcacín': 'guadalcacin',\n",
       " 'Embalse de Guadarranque': 'guadarranque',\n",
       " 'Embalse de los Hurones': 'los hurones',\n",
       " 'Embalse de Zahariche': 'zahara',\n",
       " 'Embalse de Zahara - El Gastor': 'zahara - el gastor',\n",
       " 'Embalse del Arenoso': 'arenoso',\n",
       " 'Embalse del Bembézar': 'bembezar',\n",
       " 'Embalse de Guadalmellato': 'guadalmellato',\n",
       " 'Embalse de Guadalén': 'guadanunno',\n",
       " 'Embalse de Iznájar': 'iznajar',\n",
       " 'Embalse de la Feda': 'la brenna',\n",
       " 'Embalse de Martín Gonzalo': 'martin gonzalo',\n",
       " 'Embalse de Puente Nuevo': 'puente nuevo',\n",
       " 'Embalse del Retortillo': 'retortillo',\n",
       " 'Embalse de San Rafael de Navallana': 'san rafael de navallana',\n",
       " 'Embalse de Sierra Boyera': 'sierra boyera',\n",
       " 'Embalse de Yegüas': 'yeguas',\n",
       " 'Embalse de Béznar': 'beznar',\n",
       " 'Embalse de Canales': 'canales',\n",
       " 'Embalse de Colomera': 'colomera',\n",
       " 'Embalse de Cubillas': 'cubillas',\n",
       " 'Embalse del Portillo': 'el portillo',\n",
       " 'Embalse de Tranco de Beas': 'tranco de beas',\n",
       " 'Embalse de los Bermejales': 'los bermejales',\n",
       " 'Embalse de Negratín': 'negratin',\n",
       " 'Embalse de Quéntar': 'quentar',\n",
       " 'Embalse de Rules': 'huesna',\n",
       " 'Embalse de San Clemente': 'san clemente',\n",
       " 'Embalse de Andévalo': 'andevalo',\n",
       " 'Embalse de Aracena': 'aracena',\n",
       " 'Embalse del Chanza': 'chanza',\n",
       " 'Embalse del Corumbel Bajo': 'corumbel bajo',\n",
       " 'Embalse de Jarrama': 'jarrama',\n",
       " 'Embalse de los Machos': 'los machos',\n",
       " 'Embalse del Piedras': 'piedras',\n",
       " 'Embalse de Zufre': 'zufre',\n",
       " 'Embalse de Aguascebas': 'aguascebas',\n",
       " 'Embalse de Dañador': 'dannador',\n",
       " 'Embalse del Giribaile': 'giribaile',\n",
       " 'Embalse de Guadalmena': 'guadalmena',\n",
       " 'Embalse del Jándula': 'jandula',\n",
       " 'Embalse de la Bolera': 'la bolera',\n",
       " 'Embalse de la Fernandina': 'la fernandina',\n",
       " 'Embalse del Quiebrajano': 'quiebrajano',\n",
       " 'Embalse del Rumblar': 'rumblar',\n",
       " 'Embalse de Vadomojón': 'vadomojon',\n",
       " 'Embalse del Víboras': 'viboras',\n",
       " 'Embalse de Casasola': 'casasola',\n",
       " 'Embalse del Conde de Guadalhorce': 'conde de guadalhorce',\n",
       " 'Embalse del Limonero': 'el limonero',\n",
       " 'Embalse de Guadalhorce': 'guadalhorce',\n",
       " 'Embalse de Guadalteba': 'guadalteba',\n",
       " 'Embalse de la Concepción': 'la concepcion',\n",
       " 'Embalse de la Viñuela': 'la vinnuela',\n",
       " 'Embalse de Cala': 'cala',\n",
       " 'Embalse del Agrio': 'el agrio',\n",
       " 'Embalse del Pintado': 'el pintado',\n",
       " 'Embalse de Gergal': 'gergal',\n",
       " 'Embalse de José Torán': 'jose toran',\n",
       " 'Embalse de la Minilla': 'la minilla',\n",
       " 'Embalse de Melonares': 'melonares',\n",
       " 'Embalse de la Puebla de Cazalla': 'puebla de cazalla',\n",
       " 'Embalse de Torre del Aguila': 'torre del aguila'}"
      ]
     },
     "execution_count": 161,
     "metadata": {},
     "output_type": "execute_result"
    }
   ],
   "source": []
  },
  {
   "cell_type": "code",
   "execution_count": 141,
   "metadata": {},
   "outputs": [
    {
     "data": {
      "text/plain": [
       "cod_emb                                                     1.0\n",
       "nombre                                Embalse de Tranco de Beas\n",
       "cod_est                                                     E01\n",
       "cod_roea                                                   5001\n",
       "idemb_cbrh                                            4000115.0\n",
       "cod_massup                                         ES0511100055\n",
       "fuente_nom      IDE Confederación Hidrográfica del Guadalquivir\n",
       "area                                                 17415295.0\n",
       "perimetro                                               88713.0\n",
       "fecha_alta                                                 2010\n",
       "fecha_baja                                                    0\n",
       "geometry      MULTIPOLYGON (((523504.7671098917 4229365.8424...\n",
       "Name: 0, dtype: object"
      ]
     },
     "execution_count": 141,
     "metadata": {},
     "output_type": "execute_result"
    }
   ],
   "source": []
  },
  {
   "cell_type": "code",
   "execution_count": 153,
   "metadata": {},
   "outputs": [
    {
     "name": "stdout",
     "output_type": "stream",
     "text": [
      "total 320\n",
      "drwxr-xr-x@  4 cg  staff   128B Mar 27 16:51 \u001b[1m\u001b[36m.\u001b[m\u001b[m\n",
      "drwxr-xr-x@ 13 cg  staff   416B Mar 27 16:40 \u001b[1m\u001b[36m..\u001b[m\u001b[m\n",
      "-rw-r--r--@  1 cg  staff    81K Mar 27 16:50 reservoirs.geojson\n",
      "-rw-r--r--@  1 cg  staff    74K Mar 27 16:51 reservoirs.json\n"
     ]
    }
   ],
   "source": [
    "!ls -alh ../../../frontend/src/data "
   ]
  },
  {
   "cell_type": "code",
   "execution_count": 162,
   "metadata": {},
   "outputs": [
    {
     "data": {
      "text/plain": [
       "cod_emb                                                     1.0\n",
       "nombre                                Embalse de Tranco de Beas\n",
       "cod_est                                                     E01\n",
       "cod_roea                                                   5001\n",
       "idemb_cbrh                                            4000115.0\n",
       "cod_massup                                         ES0511100055\n",
       "fuente_nom      IDE Confederación Hidrográfica del Guadalquivir\n",
       "area                                                 17415295.0\n",
       "perimetro                                               88713.0\n",
       "fecha_alta                                                 2010\n",
       "fecha_baja                                                    0\n",
       "geometry      POLYGON ((-2.731509444260477 38.2119503448655,...\n",
       "name_data                                        tranco de beas\n",
       "Name: 0, dtype: object"
      ]
     },
     "execution_count": 162,
     "metadata": {},
     "output_type": "execute_result"
    }
   ],
   "source": [
    "# type: ignore\n",
    "filename = '../../../frontend/src/data/reservoirs.json'\n",
    "gdf = gdf_raw[gdf_raw.nombre.isin(df_matches['name_geo_full'])].copy()\n",
    "gdf['name_data'] = [dict_matches[n] for n in gdf.nombre]\n",
    "gdf.geometry = gdf.geometry.simplify(100)\n",
    "# Turn this into a geo crs\n",
    "gdf = gdf.to_crs(\"EPSG:4326\")\n",
    "# Reduce the storage size by making the geometry less granular\n",
    "\n",
    "gdf.to_file(filename, driver='GeoJSON')\n",
    "gdf.iloc[0]"
   ]
  },
  {
   "cell_type": "code",
   "execution_count": 163,
   "metadata": {},
   "outputs": [
    {
     "data": {
      "text/plain": [
       "array(['tranco de beas', 'conde de guadalhorce', 'la brenna',\n",
       "       'la fernandina', 'guadalmena', 'giribaile', 'aguascebas',\n",
       "       'san clemente', 'el portillo', 'la bolera', 'negratin', 'dannador',\n",
       "       'guadanunno', 'quiebrajano', 'rumblar', 'vadomojon',\n",
       "       'sierra boyera', 'jandula', 'yeguas', 'martin gonzalo',\n",
       "       'guadalmellato', 'san rafael de navallana', 'viboras',\n",
       "       'puente nuevo', 'bembezar', 'retortillo', 'canales', 'quentar',\n",
       "       'colomera', 'cubillas', 'los bermejales', 'iznajar', 'gergal',\n",
       "       'zahara', 'jose toran', 'puebla de cazalla', 'el pintado',\n",
       "       'melonares', 'aracena', 'zufre', 'la minilla', 'cala', 'el agrio',\n",
       "       'torre del aguila', 'la concepcion', 'chanza', 'andevalo',\n",
       "       'guadalcacin', 'zahara - el gastor', 'bornos', 'arcos',\n",
       "       'los hurones', 'barbate', 'guadarranque', 'celemin',\n",
       "       'charco redondo', 'almodovar', 'guadalteba', 'beninar', 'casasola',\n",
       "       'huesna', 'beznar', 'la vinnuela', 'el limonero', 'corumbel bajo',\n",
       "       'piedras', 'guadalhorce', 'jarrama', 'cuevas de almanzora',\n",
       "       'arenoso', 'los machos'], dtype=object)"
      ]
     },
     "execution_count": 163,
     "metadata": {},
     "output_type": "execute_result"
    }
   ],
   "source": [
    "gdf.name_data.unique()"
   ]
  },
  {
   "cell_type": "code",
   "execution_count": 50,
   "metadata": {},
   "outputs": [
    {
     "data": {
      "text/plain": [
       "<QuerySet []>"
      ]
     },
     "execution_count": 50,
     "metadata": {},
     "output_type": "execute_result"
    }
   ],
   "source": [
    "RainFall.objects.all()"
   ]
  },
  {
   "cell_type": "code",
   "execution_count": 46,
   "metadata": {},
   "outputs": [
    {
     "data": {
      "text/plain": [
       "'conde de guadalhorce'"
      ]
     },
     "execution_count": 46,
     "metadata": {},
     "output_type": "execute_result"
    }
   ],
   "source": [
    "ReservoirState.objects.all()[0].reservoir.name"
   ]
  },
  {
   "cell_type": "code",
   "execution_count": 33,
   "metadata": {},
   "outputs": [
    {
     "data": {
      "text/plain": [
       "100"
      ]
     },
     "execution_count": 33,
     "metadata": {},
     "output_type": "execute_result"
    }
   ],
   "source": [
    "reservoirs = Reservoir.objects.annotate(\n",
    "        num_states=Count(\"reservoir_reservoirstate\")\n",
    "    )\n",
    "\n",
    "# Get all reservoirs with num_states > 0\n",
    "reservoirs = reservoirs.filter(num_states__gt=0)\n",
    "reservoirs[0].num_states\n"
   ]
  },
  {
   "cell_type": "code",
   "execution_count": 36,
   "metadata": {},
   "outputs": [
    {
     "data": {
      "text/plain": [
       "'conde de guadalhorce'"
      ]
     },
     "execution_count": 36,
     "metadata": {},
     "output_type": "execute_result"
    }
   ],
   "source": [
    "reservoirs[0].name"
   ]
  },
  {
   "cell_type": "code",
   "execution_count": 20,
   "metadata": {},
   "outputs": [
    {
     "data": {
      "text/plain": [
       "46.41588833612778"
      ]
     },
     "execution_count": 20,
     "metadata": {},
     "output_type": "execute_result"
    }
   ],
   "source": [
    "np.power(100000, 1/3)"
   ]
  },
  {
   "cell_type": "code",
   "execution_count": null,
   "metadata": {},
   "outputs": [],
   "source": [
    "cm = 1000\n",
    "hm3 = 100000 * cm\n",
    "\n"
   ]
  }
 ],
 "metadata": {
  "kernelspec": {
   "display_name": "Python 3 (ipykernel)",
   "language": "python",
   "name": "python3"
  }
 },
 "nbformat": 4,
 "nbformat_minor": 2
}
