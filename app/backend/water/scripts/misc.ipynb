{
 "cells": [
  {
   "cell_type": "code",
   "execution_count": 38,
   "metadata": {},
   "outputs": [],
   "source": [
    "from PIL import Image\n",
    "import requests\n",
    "import numpy as np\n",
    "from PIL import Image\n",
    "\n",
    "import pandas as pd \n",
    "import geopandas as gpd\n",
    "# import osmnx as ox\n",
    "# import networkx as nx\n",
    "\n",
    "import pyproj\n",
    "from shapely.ops import transform\n",
    "\n",
    "import shapely\n",
    "from shapely import Point\n",
    "\n",
    "# import boto3\n",
    "import os\n",
    "import django\n",
    "\n",
    "pd.set_option('display.precision', 2)\n",
    "\n",
    "os.environ.setdefault(\"DJANGO_SETTINGS_MODULE\", \"water.settings\")\n",
    "os.environ[\"DJANGO_ALLOW_ASYNC_UNSAFE\"] = \"true\"\n",
    "django.setup()\n",
    "\n",
    "from water.models import ReservoirState, Reservoir, ReservoirStateSerializer, RainFall\n",
    "\n",
    "from water.utils import parse as p\n",
    "from django.db.models import Count"
   ]
  },
  {
   "cell_type": "code",
   "execution_count": 59,
   "metadata": {},
   "outputs": [
    {
     "data": {
      "text/plain": [
       "{'date': '2012-09-01', 'reservoir_state': {'uuid': 'b6cdceb0-147a-420c-a601-cf9d3c778ef7', 'date': '2012-09-01', 'volume': 30.67, 'reservoir': {'uuid': '20bb971a-4c4a-43dd-aa92-4f72c20ba351', 'name': 'conde de guadalhorce', 'capacity': 66.5}}}"
      ]
     },
     "execution_count": 59,
     "metadata": {},
     "output_type": "execute_result"
    }
   ],
   "source": [
    "rf = ReservoirState.objects.all()[0]\n",
    "vals = {}\n",
    "vals['date'] = rf.date\n",
    "vals['reservoir_state'] = rf\n",
    "\n",
    "from rest_framework import serializers\n",
    "class DailyDataSerializer(serializers.Serializer):\n",
    "    date = serializers.DateField()\n",
    "    reservoir_state = ReservoirStateSerializer()\n",
    "\n",
    "DailyDataSerializer(vals).data"
   ]
  },
  {
   "cell_type": "code",
   "execution_count": 50,
   "metadata": {},
   "outputs": [
    {
     "data": {
      "text/plain": [
       "<QuerySet []>"
      ]
     },
     "execution_count": 50,
     "metadata": {},
     "output_type": "execute_result"
    }
   ],
   "source": [
    "RainFall.objects.all()"
   ]
  },
  {
   "cell_type": "code",
   "execution_count": 46,
   "metadata": {},
   "outputs": [
    {
     "data": {
      "text/plain": [
       "'conde de guadalhorce'"
      ]
     },
     "execution_count": 46,
     "metadata": {},
     "output_type": "execute_result"
    }
   ],
   "source": [
    "ReservoirState.objects.all()[0].reservoir.name"
   ]
  },
  {
   "cell_type": "code",
   "execution_count": 33,
   "metadata": {},
   "outputs": [
    {
     "data": {
      "text/plain": [
       "100"
      ]
     },
     "execution_count": 33,
     "metadata": {},
     "output_type": "execute_result"
    }
   ],
   "source": [
    "reservoirs = Reservoir.objects.annotate(\n",
    "        num_states=Count(\"reservoir_reservoirstate\")\n",
    "    )\n",
    "\n",
    "# Get all reservoirs with num_states > 0\n",
    "reservoirs = reservoirs.filter(num_states__gt=0)\n",
    "reservoirs[0].num_states\n"
   ]
  },
  {
   "cell_type": "code",
   "execution_count": 36,
   "metadata": {},
   "outputs": [
    {
     "data": {
      "text/plain": [
       "'conde de guadalhorce'"
      ]
     },
     "execution_count": 36,
     "metadata": {},
     "output_type": "execute_result"
    }
   ],
   "source": [
    "reservoirs[0].name"
   ]
  },
  {
   "cell_type": "code",
   "execution_count": null,
   "metadata": {},
   "outputs": [],
   "source": []
  }
 ],
 "metadata": {
  "kernelspec": {
   "display_name": "Python 3 (ipykernel)",
   "language": "python",
   "name": "python3"
  },
  "language_info": {
   "codemirror_mode": {
    "name": "ipython",
    "version": 3
   },
   "file_extension": ".py",
   "mimetype": "text/x-python",
   "name": "python",
   "nbconvert_exporter": "python",
   "pygments_lexer": "ipython3",
   "version": "3.10.13"
  }
 },
 "nbformat": 4,
 "nbformat_minor": 2
}
