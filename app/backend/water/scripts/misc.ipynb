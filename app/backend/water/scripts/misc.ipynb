{
 "cells": [
  {
   "cell_type": "code",
   "execution_count": 7,
   "metadata": {},
   "outputs": [],
   "source": [
    "# type: ignore\n",
    "\n",
    "import requests\n",
    "import numpy as np\n",
    "\n",
    "import pandas as pd \n",
    "import geopandas as gpd\n",
    "\n",
    "import pyproj\n",
    "from shapely.ops import transform\n",
    "\n",
    "import shapely\n",
    "from shapely import Point\n",
    "\n",
    "# import boto3\n",
    "import os\n",
    "import django\n",
    "\n",
    "pd.set_option('display.precision', 2)\n",
    "\n",
    "wdwanted = '/Users/cg/Dropbox/code/Python/water/app/backend/'\n",
    "os.chdir(wdwanted)\n",
    "\n",
    "env_file = '../.env'\n",
    "file_content = open(env_file).read()\n",
    "lines = file_content.splitlines()\n",
    "for line in lines:\n",
    "    parts = line.split('=')\n",
    "    if len(parts) == 2:\n",
    "        key, value = parts\n",
    "        os.environ[key] = value\n",
    "        \n",
    "os.environ['DB_USED']='local'\n",
    "\n",
    "os.environ.setdefault(\"DJANGO_SETTINGS_MODULE\", \"water.settings.dev\")\n",
    "os.environ[\"DJANGO_ALLOW_ASYNC_UNSAFE\"] = \"true\"\n",
    "django.setup()\n",
    "from water.models import ReservoirState, Reservoir, ReservoirStateSerializer, RainFall\n",
    "\n",
    "from water.utils import parse as p\n",
    "from django.db.models import Count\n",
    "from water.utils import data\n",
    "\n",
    "# Reload the data module\n"
   ]
  },
  {
   "cell_type": "code",
   "execution_count": 62,
   "metadata": {},
   "outputs": [
    {
     "data": {
      "text/plain": [
       "(12, 13.57)"
      ]
     },
     "execution_count": 62,
     "metadata": {},
     "output_type": "execute_result"
    }
   ],
   "source": [
    "import importlib\n",
    "\n",
    "importlib.reload(data)\n",
    "rd = data.get_reservoir_data()\n",
    "rd[0].num_states, rd[0].volume_latest"
   ]
  },
  {
   "cell_type": "code",
   "execution_count": 57,
   "metadata": {},
   "outputs": [
    {
     "data": {
      "text/plain": [
       "<Reservoir: Reservoir object (455)>"
      ]
     },
     "execution_count": 57,
     "metadata": {},
     "output_type": "execute_result"
    }
   ],
   "source": []
  },
  {
   "cell_type": "code",
   "execution_count": 53,
   "metadata": {},
   "outputs": [
    {
     "data": {
      "text/plain": [
       "[13.57, 49.88, 30.74, 11.97, 24.82, 5.96, 7.07]"
      ]
     },
     "execution_count": 53,
     "metadata": {},
     "output_type": "execute_result"
    }
   ],
   "source": [
    "from django.db.models import OuterRef, Subquery, Max\n",
    "from django.db.models.functions import Coalesce\n",
    "\n",
    "most_recent_dates = (\n",
    "        ReservoirState.objects.filter(reservoir=OuterRef(\"pk\"))\n",
    "        .order_by(\"-date\")\n",
    "        .values(\"date\")[:1]\n",
    "    )\n",
    "most_recent_volume = (\n",
    "    ReservoirState.objects.filter(\n",
    "        reservoir=OuterRef(\"pk\"), date='2023-09-01'\n",
    "    )\n",
    "    .values(\"volume\")[:1]\n",
    ")\n",
    "\n",
    "reservoirs = Reservoir.objects.annotate(\n",
    "    volume_latest=Subquery(most_recent_volume),\n",
    ")\n",
    "\n",
    "[r.volume_latest for r in reservoirs]\n",
    "#reservoirs[1].recent_date, reservoirs[1].volume_latest #, reservoirs[1].num_states"
   ]
  },
  {
   "cell_type": "code",
   "execution_count": 39,
   "metadata": {},
   "outputs": [
    {
     "data": {
      "text/plain": [
       "[None, None, None, None, None, None, None]"
      ]
     },
     "execution_count": 39,
     "metadata": {},
     "output_type": "execute_result"
    }
   ],
   "source": []
  },
  {
   "cell_type": "code",
   "execution_count": 48,
   "metadata": {},
   "outputs": [
    {
     "data": {
      "text/plain": [
       "UUID('ee2b86bc-5d79-4e77-81c5-0c76a172e90b')"
      ]
     },
     "execution_count": 48,
     "metadata": {},
     "output_type": "execute_result"
    }
   ],
   "source": [
    "ReservoirState.objects.all()[0].reservoir.uuid"
   ]
  },
  {
   "cell_type": "code",
   "execution_count": 51,
   "metadata": {},
   "outputs": [
    {
     "data": {
      "text/plain": [
       "UUID('ee2b86bc-5d79-4e77-81c5-0c76a172e90b')"
      ]
     },
     "execution_count": 51,
     "metadata": {},
     "output_type": "execute_result"
    }
   ],
   "source": [
    "Reservoir.objects.get(uuid='ee2b86bc-5d79-4e77-81c5-0c76a172e90b').uuid"
   ]
  },
  {
   "cell_type": "code",
   "execution_count": 35,
   "metadata": {},
   "outputs": [
    {
     "name": "stdout",
     "output_type": "stream",
     "text": [
      "SELECT \"reservoir\".\"id\", \"reservoir\".\"uuid\", \"reservoir\".\"name\", \"reservoir\".\"capacity\",\n",
      "\"reservoir\".\"name_full\", \"reservoir\".\"province\", (SELECT V0.\"volume\" FROM \"reservoirstate\" V0 WHERE\n",
      "(V0.\"date\" = (SELECT U0.\"date\" FROM \"reservoirstate\" U0 WHERE U0.\"reservoir_id\" = (V0.\"id\") ORDER BY\n",
      "U0.\"date\" DESC LIMIT 1) AND V0.\"reservoir_id\" = (\"reservoir\".\"id\")) LIMIT 1) AS \"volume_latest\" FROM\n",
      "\"reservoir\"\n"
     ]
    }
   ],
   "source": [
    "# Get the sql for `reservoirs`\n",
    "q = reservoirs.query\n",
    "\n",
    "q_str = str(q)\n",
    "\n",
    "# Show q_str with a line with of 100 charcters, using standard python textwrap\n",
    "import textwrap\n",
    "print(textwrap.fill(q_str.replace('water_', ''), width=100))"
   ]
  },
  {
   "cell_type": "code",
   "execution_count": 4,
   "metadata": {},
   "outputs": [
    {
     "data": {
      "text/plain": [
       "<QuerySet []>"
      ]
     },
     "execution_count": 4,
     "metadata": {},
     "output_type": "execute_result"
    }
   ],
   "source": [
    "inputs = {\n",
    "  'num_obs': 500,\n",
    " 'start_date': '2000-01-01',\n",
    " 'end_date': '2024-12-31',\n",
    " 'is_first_of_year': True,\n",
    " 'reservoir_uuids': ['ba76237b-e4d8-4603-bee1-4196e0cbc1a5']\n",
    "}\n",
    "\n",
    "data.get_reservoir_states_data(**inputs)"
   ]
  },
  {
   "cell_type": "code",
   "execution_count": 5,
   "metadata": {},
   "outputs": [
    {
     "data": {
      "text/plain": [
       "[]"
      ]
     },
     "execution_count": 5,
     "metadata": {},
     "output_type": "execute_result"
    }
   ],
   "source": [
    "data.get_wide_data(**inputs)"
   ]
  },
  {
   "cell_type": "code",
   "execution_count": 15,
   "metadata": {},
   "outputs": [
    {
     "data": {
      "text/plain": [
       "<QuerySet []>"
      ]
     },
     "execution_count": 15,
     "metadata": {},
     "output_type": "execute_result"
    }
   ],
   "source": []
  },
  {
   "cell_type": "code",
   "execution_count": 16,
   "metadata": {},
   "outputs": [
    {
     "data": {
      "text/plain": [
       "<QuerySet []>"
      ]
     },
     "execution_count": 16,
     "metadata": {},
     "output_type": "execute_result"
    }
   ],
   "source": []
  },
  {
   "cell_type": "code",
   "execution_count": 17,
   "metadata": {},
   "outputs": [
    {
     "data": {
      "text/plain": [
       "[]"
      ]
     },
     "execution_count": 17,
     "metadata": {},
     "output_type": "execute_result"
    }
   ],
   "source": [
    "data.get_wide_data(**inputs)"
   ]
  },
  {
   "cell_type": "code",
   "execution_count": 18,
   "metadata": {},
   "outputs": [
    {
     "data": {
      "text/plain": [
       "{'num_obs': 500,\n",
       " 'start_date': '2000-01-01',\n",
       " 'end_date': '2024-12-31',\n",
       " 'is_first_of_year': True,\n",
       " 'reservoir_uuids': 'ba76237b-e4d8-4603-bee1-4196e0cbc1a5'}"
      ]
     },
     "execution_count": 18,
     "metadata": {},
     "output_type": "execute_result"
    }
   ],
   "source": [
    "inputs"
   ]
  },
  {
   "cell_type": "code",
   "execution_count": 13,
   "metadata": {},
   "outputs": [],
   "source": [
    "filename_all = 'water/data_raw/all_parsed_cleaned.csv'\n",
    "df_all_raw = pd.read_csv(filename_all).sort_values(['province', 'reservoir', 'ds'])\n",
    "name_df = df_all_raw.reservoir.unique()"
   ]
  },
  {
   "cell_type": "code",
   "execution_count": 14,
   "metadata": {},
   "outputs": [],
   "source": [
    "def pick_monthly(df):\n",
    "    df_monthly = df[df.ds.str.slice(8, 10) == \"01\"].copy()\n",
    "    return df_monthly\n",
    "\n",
    "df = pick_monthly(df_all_raw)"
   ]
  },
  {
   "cell_type": "code",
   "execution_count": 19,
   "metadata": {},
   "outputs": [
    {
     "data": {
      "text/plain": [
       "Index(['ds', 'reservoir', 'province', 'rainfallsince', 'avgrainfall1971_2000',\n",
       "       'capacity_hm3', 'stored_hm3', 'variation24h_hm3', 'weekchange',\n",
       "       'yearchange', 'fillingpcttoday', 'weekago', 'yearago',\n",
       "       'avgreserve5yrs_hm3', 'month', 'year'],\n",
       "      dtype='object')"
      ]
     },
     "execution_count": 19,
     "metadata": {},
     "output_type": "execute_result"
    }
   ],
   "source": [
    "df['month'] = df.ds.str.slice(5, 7)\n",
    "df = df[df.month=='09']\n",
    "df['year'] = df.ds.str.slice(0, 4)\n",
    "\n",
    "df = df[df.year=='2023']\n",
    "df.columns"
   ]
  },
  {
   "cell_type": "code",
   "execution_count": 20,
   "metadata": {},
   "outputs": [
    {
     "data": {
      "text/plain": [
       "province\n",
       "almeria     222.98\n",
       "cadiz      1821.00\n",
       "cordoba    3248.20\n",
       "granada    1126.60\n",
       "huelva     1410.00\n",
       "jaen       2457.90\n",
       "malaga      616.80\n",
       "sevilla     956.20\n",
       "Name: capacity_hm3, dtype: float64"
      ]
     },
     "execution_count": 20,
     "metadata": {},
     "output_type": "execute_result"
    }
   ],
   "source": [
    "df.groupby('province').capacity_hm3.sum()"
   ]
  },
  {
   "cell_type": "code",
   "execution_count": 24,
   "metadata": {},
   "outputs": [
    {
     "data": {
      "text/html": [
       "<div>\n",
       "<style scoped>\n",
       "    .dataframe tbody tr th:only-of-type {\n",
       "        vertical-align: middle;\n",
       "    }\n",
       "\n",
       "    .dataframe tbody tr th {\n",
       "        vertical-align: top;\n",
       "    }\n",
       "\n",
       "    .dataframe thead th {\n",
       "        text-align: right;\n",
       "    }\n",
       "</style>\n",
       "<table border=\"1\" class=\"dataframe\">\n",
       "  <thead>\n",
       "    <tr style=\"text-align: right;\">\n",
       "      <th></th>\n",
       "      <th>reservoir</th>\n",
       "      <th>rainfallsince</th>\n",
       "      <th>avgrainfall1971_2000</th>\n",
       "      <th>capacity_hm3</th>\n",
       "      <th>stored_hm3</th>\n",
       "    </tr>\n",
       "  </thead>\n",
       "  <tbody>\n",
       "    <tr>\n",
       "      <th>3380</th>\n",
       "      <td>arenoso</td>\n",
       "      <td>405.3</td>\n",
       "      <td>539.3</td>\n",
       "      <td>167.0</td>\n",
       "      <td>23.54</td>\n",
       "    </tr>\n",
       "    <tr>\n",
       "      <th>4479</th>\n",
       "      <td>bembezar</td>\n",
       "      <td>412.7</td>\n",
       "      <td>640.4</td>\n",
       "      <td>342.1</td>\n",
       "      <td>34.71</td>\n",
       "    </tr>\n",
       "    <tr>\n",
       "      <th>19417</th>\n",
       "      <td>guadalmellato</td>\n",
       "      <td>465.0</td>\n",
       "      <td>602.7</td>\n",
       "      <td>146.6</td>\n",
       "      <td>45.21</td>\n",
       "    </tr>\n",
       "    <tr>\n",
       "      <th>21234</th>\n",
       "      <td>guadanunno</td>\n",
       "      <td>534.4</td>\n",
       "      <td>683.5</td>\n",
       "      <td>1.6</td>\n",
       "      <td>0.95</td>\n",
       "    </tr>\n",
       "    <tr>\n",
       "      <th>22946</th>\n",
       "      <td>iznajar</td>\n",
       "      <td>301.5</td>\n",
       "      <td>596.4</td>\n",
       "      <td>981.1</td>\n",
       "      <td>150.50</td>\n",
       "    </tr>\n",
       "    <tr>\n",
       "      <th>25761</th>\n",
       "      <td>la brenna</td>\n",
       "      <td>426.7</td>\n",
       "      <td>548.3</td>\n",
       "      <td>823.0</td>\n",
       "      <td>94.21</td>\n",
       "    </tr>\n",
       "    <tr>\n",
       "      <th>30316</th>\n",
       "      <td>martin gonzalo</td>\n",
       "      <td>449.0</td>\n",
       "      <td>584.9</td>\n",
       "      <td>17.8</td>\n",
       "      <td>2.56</td>\n",
       "    </tr>\n",
       "    <tr>\n",
       "      <th>33119</th>\n",
       "      <td>puente nuevo</td>\n",
       "      <td>456.4</td>\n",
       "      <td>620.4</td>\n",
       "      <td>281.7</td>\n",
       "      <td>31.19</td>\n",
       "    </tr>\n",
       "    <tr>\n",
       "      <th>34884</th>\n",
       "      <td>retortillo</td>\n",
       "      <td>426.6</td>\n",
       "      <td>659.6</td>\n",
       "      <td>61.2</td>\n",
       "      <td>6.31</td>\n",
       "    </tr>\n",
       "    <tr>\n",
       "      <th>37212</th>\n",
       "      <td>san rafael de navallana</td>\n",
       "      <td>485.1</td>\n",
       "      <td>547.9</td>\n",
       "      <td>156.5</td>\n",
       "      <td>59.44</td>\n",
       "    </tr>\n",
       "    <tr>\n",
       "      <th>37820</th>\n",
       "      <td>sierra boyera</td>\n",
       "      <td>285.0</td>\n",
       "      <td>556.6</td>\n",
       "      <td>40.9</td>\n",
       "      <td>0.07</td>\n",
       "    </tr>\n",
       "    <tr>\n",
       "      <th>40682</th>\n",
       "      <td>yeguas</td>\n",
       "      <td>481.9</td>\n",
       "      <td>532.1</td>\n",
       "      <td>228.7</td>\n",
       "      <td>37.91</td>\n",
       "    </tr>\n",
       "  </tbody>\n",
       "</table>\n",
       "</div>"
      ],
      "text/plain": [
       "                     reservoir  rainfallsince  avgrainfall1971_2000  \\\n",
       "3380                   arenoso          405.3                 539.3   \n",
       "4479                  bembezar          412.7                 640.4   \n",
       "19417            guadalmellato          465.0                 602.7   \n",
       "21234               guadanunno          534.4                 683.5   \n",
       "22946                  iznajar          301.5                 596.4   \n",
       "25761                la brenna          426.7                 548.3   \n",
       "30316           martin gonzalo          449.0                 584.9   \n",
       "33119             puente nuevo          456.4                 620.4   \n",
       "34884               retortillo          426.6                 659.6   \n",
       "37212  san rafael de navallana          485.1                 547.9   \n",
       "37820            sierra boyera          285.0                 556.6   \n",
       "40682                   yeguas          481.9                 532.1   \n",
       "\n",
       "       capacity_hm3  stored_hm3  \n",
       "3380          167.0       23.54  \n",
       "4479          342.1       34.71  \n",
       "19417         146.6       45.21  \n",
       "21234           1.6        0.95  \n",
       "22946         981.1      150.50  \n",
       "25761         823.0       94.21  \n",
       "30316          17.8        2.56  \n",
       "33119         281.7       31.19  \n",
       "34884          61.2        6.31  \n",
       "37212         156.5       59.44  \n",
       "37820          40.9        0.07  \n",
       "40682         228.7       37.91  "
      ]
     },
     "execution_count": 24,
     "metadata": {},
     "output_type": "execute_result"
    }
   ],
   "source": [
    "df.query('province==\"cordoba\"')[['reservoir', 'rainfallsince', 'avgrainfall1971_2000', 'capacity_hm3', 'stored_hm3']]"
   ]
  },
  {
   "cell_type": "code",
   "execution_count": 2,
   "metadata": {},
   "outputs": [
    {
     "data": {
      "text/plain": [
       "'Embalse de la Viñuela'"
      ]
     },
     "execution_count": 2,
     "metadata": {},
     "output_type": "execute_result"
    }
   ],
   "source": [
    "reservoir = Reservoir.objects.all()[0]\n",
    "reservoir.name_full"
   ]
  },
  {
   "cell_type": "code",
   "execution_count": 4,
   "metadata": {},
   "outputs": [
    {
     "data": {
      "text/plain": [
       "django.db.models.query.QuerySet"
      ]
     },
     "execution_count": 4,
     "metadata": {},
     "output_type": "execute_result"
    }
   ],
   "source": [
    "qs = Reservoir.objects.all()\n",
    "\n",
    "type(qs)"
   ]
  },
  {
   "cell_type": "code",
   "execution_count": null,
   "metadata": {},
   "outputs": [],
   "source": []
  },
  {
   "cell_type": "code",
   "execution_count": 64,
   "metadata": {},
   "outputs": [],
   "source": [
    "filename_all = '../../../../data/datasets/all_parsed_cleaned.csv'\n",
    "df_all_raw = pd.read_csv(filename_all).sort_values(['province', 'reservoir', 'ds'])\n",
    "name_df = df_all_raw.reservoir.unique()\n"
   ]
  },
  {
   "cell_type": "code",
   "execution_count": 112,
   "metadata": {},
   "outputs": [],
   "source": [
    "filename_all = '../../../../data/datasets/all_parsed_cleaned.csv'\n",
    "df_all_raw = pd.read_csv(filename_all).sort_values(['province', 'reservoir', 'ds'])\n",
    "name_df = df_all_raw.reservoir.unique()\n",
    "\n",
    "file = '../../../../data/reservoirs/InfGeografica/InfVectorial/Gpkg/Inv_presas_embalses.gpkg'\n",
    "\n",
    "# Open the file in geopandas\n",
    "gdf_raw = gpd.read_file(file)\n",
    "name_geo = gdf_raw[gdf_raw.nombre.notnull()].nombre.unique()\n",
    "\n",
    "replace_vals = ['embalse del ', 'embalse de ', 'embalse ']\n",
    "\n",
    "def clean_name(name):\n",
    "    for val in replace_vals:\n",
    "        name = name.lower().replace(val, '')\n",
    "    return name\n",
    "\n",
    "names_geo_dict = {name: clean_name(name) for name in name_geo}"
   ]
  },
  {
   "cell_type": "code",
   "execution_count": 73,
   "metadata": {},
   "outputs": [
    {
     "data": {
      "text/plain": [
       "array(['beninar', 'cuevas de almanzora', 'almodovar', 'arcos', 'barbate',\n",
       "       'bornos', 'celemin', 'charco redondo', 'guadalcacin',\n",
       "       'guadarranque', 'los hurones', 'zahara', 'zahara - el gastor',\n",
       "       'arenoso', 'bembezar', 'guadalmellato', 'guadanunno', 'iznajar',\n",
       "       'la brenna', 'martin gonzalo', 'puente nuevo', 'retortillo',\n",
       "       'san rafael de navallana', 'sierra boyera', 'yeguas', 'beznar',\n",
       "       'canales', 'colomera', 'cubillas', 'el portillo',\n",
       "       'francisco abellan', 'los bermejales', 'negratin', 'quentar',\n",
       "       'rules', 'san clemente', 'andevalo', 'aracena', 'chanza',\n",
       "       'corumbel bajo', 'jarrama', 'los machos', 'piedras', 'zufre',\n",
       "       'aguascebas', 'dannador', 'giribaile', 'guadalen', 'guadalmena',\n",
       "       'jandula', 'la bolera', 'la fernandina', 'quiebrajano', 'rumblar',\n",
       "       'tranco de beas', 'vadomojon', 'viboras', 'casasola',\n",
       "       'conde de guadalhorce', 'el limonero', 'guadalhorce', 'guadalteba',\n",
       "       'la concepcion', 'la vinnuela', 'cala', 'el agrio', 'el pintado',\n",
       "       'gergal', 'huesna', 'jose toran', 'la minilla', 'melonares',\n",
       "       'puebla de cazalla', 'torre del aguila'], dtype=object)"
      ]
     },
     "execution_count": 73,
     "metadata": {},
     "output_type": "execute_result"
    }
   ],
   "source": [
    "name_df"
   ]
  },
  {
   "cell_type": "code",
   "execution_count": 161,
   "metadata": {},
   "outputs": [
    {
     "data": {
      "text/plain": [
       "{'Embalse de Benínar': 'beninar',\n",
       " 'Embalse de Cuevas de Almanzora': 'cuevas de almanzora',\n",
       " 'Embalse de Almodóvar': 'almodovar',\n",
       " 'Embalse de Arcos': 'arcos',\n",
       " 'Embalse de Barbate': 'barbate',\n",
       " 'Embalse de Bornos': 'bornos',\n",
       " 'Embalse del Celemín': 'celemin',\n",
       " 'Embalse de Charco Redondo': 'charco redondo',\n",
       " 'Embalse de Guadalcacín': 'guadalcacin',\n",
       " 'Embalse de Guadarranque': 'guadarranque',\n",
       " 'Embalse de los Hurones': 'los hurones',\n",
       " 'Embalse de Zahariche': 'zahara',\n",
       " 'Embalse de Zahara - El Gastor': 'zahara - el gastor',\n",
       " 'Embalse del Arenoso': 'arenoso',\n",
       " 'Embalse del Bembézar': 'bembezar',\n",
       " 'Embalse de Guadalmellato': 'guadalmellato',\n",
       " 'Embalse de Guadalén': 'guadanunno',\n",
       " 'Embalse de Iznájar': 'iznajar',\n",
       " 'Embalse de la Feda': 'la brenna',\n",
       " 'Embalse de Martín Gonzalo': 'martin gonzalo',\n",
       " 'Embalse de Puente Nuevo': 'puente nuevo',\n",
       " 'Embalse del Retortillo': 'retortillo',\n",
       " 'Embalse de San Rafael de Navallana': 'san rafael de navallana',\n",
       " 'Embalse de Sierra Boyera': 'sierra boyera',\n",
       " 'Embalse de Yegüas': 'yeguas',\n",
       " 'Embalse de Béznar': 'beznar',\n",
       " 'Embalse de Canales': 'canales',\n",
       " 'Embalse de Colomera': 'colomera',\n",
       " 'Embalse de Cubillas': 'cubillas',\n",
       " 'Embalse del Portillo': 'el portillo',\n",
       " 'Embalse de Tranco de Beas': 'tranco de beas',\n",
       " 'Embalse de los Bermejales': 'los bermejales',\n",
       " 'Embalse de Negratín': 'negratin',\n",
       " 'Embalse de Quéntar': 'quentar',\n",
       " 'Embalse de Rules': 'huesna',\n",
       " 'Embalse de San Clemente': 'san clemente',\n",
       " 'Embalse de Andévalo': 'andevalo',\n",
       " 'Embalse de Aracena': 'aracena',\n",
       " 'Embalse del Chanza': 'chanza',\n",
       " 'Embalse del Corumbel Bajo': 'corumbel bajo',\n",
       " 'Embalse de Jarrama': 'jarrama',\n",
       " 'Embalse de los Machos': 'los machos',\n",
       " 'Embalse del Piedras': 'piedras',\n",
       " 'Embalse de Zufre': 'zufre',\n",
       " 'Embalse de Aguascebas': 'aguascebas',\n",
       " 'Embalse de Dañador': 'dannador',\n",
       " 'Embalse del Giribaile': 'giribaile',\n",
       " 'Embalse de Guadalmena': 'guadalmena',\n",
       " 'Embalse del Jándula': 'jandula',\n",
       " 'Embalse de la Bolera': 'la bolera',\n",
       " 'Embalse de la Fernandina': 'la fernandina',\n",
       " 'Embalse del Quiebrajano': 'quiebrajano',\n",
       " 'Embalse del Rumblar': 'rumblar',\n",
       " 'Embalse de Vadomojón': 'vadomojon',\n",
       " 'Embalse del Víboras': 'viboras',\n",
       " 'Embalse de Casasola': 'casasola',\n",
       " 'Embalse del Conde de Guadalhorce': 'conde de guadalhorce',\n",
       " 'Embalse del Limonero': 'el limonero',\n",
       " 'Embalse de Guadalhorce': 'guadalhorce',\n",
       " 'Embalse de Guadalteba': 'guadalteba',\n",
       " 'Embalse de la Concepción': 'la concepcion',\n",
       " 'Embalse de la Viñuela': 'la vinnuela',\n",
       " 'Embalse de Cala': 'cala',\n",
       " 'Embalse del Agrio': 'el agrio',\n",
       " 'Embalse del Pintado': 'el pintado',\n",
       " 'Embalse de Gergal': 'gergal',\n",
       " 'Embalse de José Torán': 'jose toran',\n",
       " 'Embalse de la Minilla': 'la minilla',\n",
       " 'Embalse de Melonares': 'melonares',\n",
       " 'Embalse de la Puebla de Cazalla': 'puebla de cazalla',\n",
       " 'Embalse de Torre del Aguila': 'torre del aguila'}"
      ]
     },
     "execution_count": 161,
     "metadata": {},
     "output_type": "execute_result"
    }
   ],
   "source": []
  },
  {
   "cell_type": "code",
   "execution_count": 141,
   "metadata": {},
   "outputs": [
    {
     "data": {
      "text/plain": [
       "cod_emb                                                     1.0\n",
       "nombre                                Embalse de Tranco de Beas\n",
       "cod_est                                                     E01\n",
       "cod_roea                                                   5001\n",
       "idemb_cbrh                                            4000115.0\n",
       "cod_massup                                         ES0511100055\n",
       "fuente_nom      IDE Confederación Hidrográfica del Guadalquivir\n",
       "area                                                 17415295.0\n",
       "perimetro                                               88713.0\n",
       "fecha_alta                                                 2010\n",
       "fecha_baja                                                    0\n",
       "geometry      MULTIPOLYGON (((523504.7671098917 4229365.8424...\n",
       "Name: 0, dtype: object"
      ]
     },
     "execution_count": 141,
     "metadata": {},
     "output_type": "execute_result"
    }
   ],
   "source": []
  },
  {
   "cell_type": "code",
   "execution_count": 153,
   "metadata": {},
   "outputs": [
    {
     "name": "stdout",
     "output_type": "stream",
     "text": [
      "total 320\n",
      "drwxr-xr-x@  4 cg  staff   128B Mar 27 16:51 \u001b[1m\u001b[36m.\u001b[m\u001b[m\n",
      "drwxr-xr-x@ 13 cg  staff   416B Mar 27 16:40 \u001b[1m\u001b[36m..\u001b[m\u001b[m\n",
      "-rw-r--r--@  1 cg  staff    81K Mar 27 16:50 reservoirs.geojson\n",
      "-rw-r--r--@  1 cg  staff    74K Mar 27 16:51 reservoirs.json\n"
     ]
    }
   ],
   "source": [
    "!ls -alh ../../../frontend/src/data "
   ]
  },
  {
   "cell_type": "code",
   "execution_count": 162,
   "metadata": {},
   "outputs": [
    {
     "data": {
      "text/plain": [
       "cod_emb                                                     1.0\n",
       "nombre                                Embalse de Tranco de Beas\n",
       "cod_est                                                     E01\n",
       "cod_roea                                                   5001\n",
       "idemb_cbrh                                            4000115.0\n",
       "cod_massup                                         ES0511100055\n",
       "fuente_nom      IDE Confederación Hidrográfica del Guadalquivir\n",
       "area                                                 17415295.0\n",
       "perimetro                                               88713.0\n",
       "fecha_alta                                                 2010\n",
       "fecha_baja                                                    0\n",
       "geometry      POLYGON ((-2.731509444260477 38.2119503448655,...\n",
       "name_data                                        tranco de beas\n",
       "Name: 0, dtype: object"
      ]
     },
     "execution_count": 162,
     "metadata": {},
     "output_type": "execute_result"
    }
   ],
   "source": [
    "# type: ignore\n",
    "filename = '../../../frontend/src/data/reservoirs.json'\n",
    "gdf = gdf_raw[gdf_raw.nombre.isin(df_matches['name_geo_full'])].copy()\n",
    "gdf['name_data'] = [dict_matches[n] for n in gdf.nombre]\n",
    "gdf.geometry = gdf.geometry.simplify(100)\n",
    "# Turn this into a geo crs\n",
    "gdf = gdf.to_crs(\"EPSG:4326\")\n",
    "# Reduce the storage size by making the geometry less granular\n",
    "\n",
    "gdf.to_file(filename, driver='GeoJSON')\n",
    "gdf.iloc[0]"
   ]
  },
  {
   "cell_type": "code",
   "execution_count": 163,
   "metadata": {},
   "outputs": [
    {
     "data": {
      "text/plain": [
       "array(['tranco de beas', 'conde de guadalhorce', 'la brenna',\n",
       "       'la fernandina', 'guadalmena', 'giribaile', 'aguascebas',\n",
       "       'san clemente', 'el portillo', 'la bolera', 'negratin', 'dannador',\n",
       "       'guadanunno', 'quiebrajano', 'rumblar', 'vadomojon',\n",
       "       'sierra boyera', 'jandula', 'yeguas', 'martin gonzalo',\n",
       "       'guadalmellato', 'san rafael de navallana', 'viboras',\n",
       "       'puente nuevo', 'bembezar', 'retortillo', 'canales', 'quentar',\n",
       "       'colomera', 'cubillas', 'los bermejales', 'iznajar', 'gergal',\n",
       "       'zahara', 'jose toran', 'puebla de cazalla', 'el pintado',\n",
       "       'melonares', 'aracena', 'zufre', 'la minilla', 'cala', 'el agrio',\n",
       "       'torre del aguila', 'la concepcion', 'chanza', 'andevalo',\n",
       "       'guadalcacin', 'zahara - el gastor', 'bornos', 'arcos',\n",
       "       'los hurones', 'barbate', 'guadarranque', 'celemin',\n",
       "       'charco redondo', 'almodovar', 'guadalteba', 'beninar', 'casasola',\n",
       "       'huesna', 'beznar', 'la vinnuela', 'el limonero', 'corumbel bajo',\n",
       "       'piedras', 'guadalhorce', 'jarrama', 'cuevas de almanzora',\n",
       "       'arenoso', 'los machos'], dtype=object)"
      ]
     },
     "execution_count": 163,
     "metadata": {},
     "output_type": "execute_result"
    }
   ],
   "source": [
    "gdf.name_data.unique()"
   ]
  },
  {
   "cell_type": "code",
   "execution_count": 50,
   "metadata": {},
   "outputs": [
    {
     "data": {
      "text/plain": [
       "<QuerySet []>"
      ]
     },
     "execution_count": 50,
     "metadata": {},
     "output_type": "execute_result"
    }
   ],
   "source": [
    "RainFall.objects.all()"
   ]
  },
  {
   "cell_type": "code",
   "execution_count": 46,
   "metadata": {},
   "outputs": [
    {
     "data": {
      "text/plain": [
       "'conde de guadalhorce'"
      ]
     },
     "execution_count": 46,
     "metadata": {},
     "output_type": "execute_result"
    }
   ],
   "source": [
    "ReservoirState.objects.all()[0].reservoir.name"
   ]
  },
  {
   "cell_type": "code",
   "execution_count": 33,
   "metadata": {},
   "outputs": [
    {
     "data": {
      "text/plain": [
       "100"
      ]
     },
     "execution_count": 33,
     "metadata": {},
     "output_type": "execute_result"
    }
   ],
   "source": [
    "reservoirs = Reservoir.objects.annotate(\n",
    "        num_states=Count(\"reservoir_reservoirstate\")\n",
    "    )\n",
    "\n",
    "# Get all reservoirs with num_states > 0\n",
    "reservoirs = reservoirs.filter(num_states__gt=0)\n",
    "reservoirs[0].num_states\n"
   ]
  },
  {
   "cell_type": "code",
   "execution_count": 36,
   "metadata": {},
   "outputs": [
    {
     "data": {
      "text/plain": [
       "'conde de guadalhorce'"
      ]
     },
     "execution_count": 36,
     "metadata": {},
     "output_type": "execute_result"
    }
   ],
   "source": [
    "reservoirs[0].name"
   ]
  },
  {
   "cell_type": "code",
   "execution_count": 20,
   "metadata": {},
   "outputs": [
    {
     "data": {
      "text/plain": [
       "46.41588833612778"
      ]
     },
     "execution_count": 20,
     "metadata": {},
     "output_type": "execute_result"
    }
   ],
   "source": [
    "np.power(100000, 1/3)"
   ]
  },
  {
   "cell_type": "code",
   "execution_count": null,
   "metadata": {},
   "outputs": [],
   "source": [
    "cm = 1000\n",
    "hm3 = 100000 * cm\n",
    "\n"
   ]
  }
 ],
 "metadata": {
  "kernelspec": {
   "display_name": "Python 3 (ipykernel)",
   "language": "python",
   "name": "python3"
  },
  "language_info": {
   "codemirror_mode": {
    "name": "ipython",
    "version": 3
   },
   "file_extension": ".py",
   "mimetype": "text/x-python",
   "name": "python",
   "nbconvert_exporter": "python",
   "pygments_lexer": "ipython3",
   "version": "3.10.13"
  }
 },
 "nbformat": 4,
 "nbformat_minor": 2
}
