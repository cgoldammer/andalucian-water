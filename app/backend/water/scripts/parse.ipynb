{
 "cells": [
  {
   "cell_type": "code",
   "execution_count": 3,
   "metadata": {},
   "outputs": [],
   "source": [
    "# type: ignore\n",
    "\n",
    "import pandas as pd\n",
    "import water.utils.parse as p\n",
    "import os\n",
    "import numpy as np\n",
    "import boto3\n",
    "import importlib\n"
   ]
  },
  {
   "cell_type": "code",
   "execution_count": 24,
   "metadata": {},
   "outputs": [
    {
     "name": "stdout",
     "output_type": "stream",
     "text": [
      "2024_12_23.pdf skipped\n",
      "2024_12_24.pdf not downloaded, content too small\n",
      "Downloaded 2024_12_24.pdf\n",
      "2024_12_25.pdf not downloaded, content too small\n",
      "Downloaded 2024_12_25.pdf\n",
      "2024_12_26.pdf not downloaded, content too small\n",
      "Downloaded 2024_12_26.pdf\n",
      "2024_12_27.pdf not downloaded, content too small\n",
      "Downloaded 2024_12_27.pdf\n",
      "2024_12_28.pdf not downloaded, content too small\n",
      "Downloaded 2024_12_28.pdf\n",
      "2024_12_29.pdf not downloaded, content too small\n",
      "Downloaded 2024_12_29.pdf\n"
     ]
    }
   ],
   "source": [
    "import water.utils.scrape as ws\n",
    "importlib.reload(ws)\n",
    "ws.download_pdfs_to_latest()\n",
    "ws.move_pdfs_to_clean_folder()\n",
    "\n",
    "import importlib\n",
    "importlib.reload(p)\n",
    "p.parse_full() # Takes about 1 min per 10 files\n",
    "p.cleaned_data_to_csv()"
   ]
  },
  {
   "cell_type": "markdown",
   "metadata": {},
   "source": [
    "# Appendix"
   ]
  },
  {
   "cell_type": "code",
   "execution_count": 39,
   "metadata": {},
   "outputs": [],
   "source": [
    "import boto3\n",
    "\n",
    "profile = 'water'\n",
    "session = boto3.Session(profile_name=profile)\n",
    "\n",
    "s3_client = session.client('s3')"
   ]
  },
  {
   "cell_type": "code",
   "execution_count": 41,
   "metadata": {},
   "outputs": [
    {
     "data": {
      "text/plain": [
       "'/Users/cg/Dropbox/code/Python/water/data'"
      ]
     },
     "execution_count": 41,
     "metadata": {},
     "output_type": "execute_result"
    }
   ],
   "source": [
    "p.folder_data"
   ]
  },
  {
   "cell_type": "code",
   "execution_count": null,
   "metadata": {},
   "outputs": [],
   "source": []
  },
  {
   "cell_type": "code",
   "execution_count": 45,
   "metadata": {},
   "outputs": [],
   "source": [
    "import shutil\n",
    "BUCKET = 'andalucianwater'\n",
    "session = boto3.Session(profile_name=profile)\n",
    "s3 = session.client('s3')\n",
    "filename_end = 'all_parsed_cleaned.csv'\n",
    "\n",
    "filename = f'{p.folder_base}/{filename_end}'\n",
    "folder_app = f'{p.cd_water}/app/backend/water/data_raw'\n",
    "\n",
    "shutil.copy(filename, f'{folder_app}/{filename_end}')\n",
    "folder_s3 = 'data/cleaned'\n",
    "with open(filename, 'rb') as f:\n",
    "    s3.upload_fileobj(f, BUCKET, f'{folder_s3}/{filename_end}')\n",
    "    \n",
    "file_geo = f'{p.folder_data}/raw/reservoirs/InfGeografica/InfVectorial/Gpkg/Inv_presas_embalses.gpkg'\n",
    "folder_geo_s3 = 'data/raw/reservoirs_geo'\n",
    "with open(file_geo, 'rb') as f:\n",
    "    s3.upload_fileobj(f, BUCKET, f'{folder_geo_s3}/reservoirs.gpkg')"
   ]
  },
  {
   "cell_type": "code",
   "execution_count": 44,
   "metadata": {},
   "outputs": [
    {
     "name": "stdout",
     "output_type": "stream",
     "text": [
      "\u001b[1m\u001b[36mdatasets\u001b[m\u001b[m \u001b[1m\u001b[36minput\u001b[m\u001b[m    \u001b[1m\u001b[36mmaps\u001b[m\u001b[m     \u001b[1m\u001b[36moutput\u001b[m\u001b[m   \u001b[1m\u001b[36mprices\u001b[m\u001b[m   \u001b[1m\u001b[36mraw\u001b[m\u001b[m\n"
     ]
    }
   ],
   "source": [
    "!ls /Users/cg/Dropbox/code/Python/water/data/reservoirs/InfGeografica/InfVectorial/Gpkg/"
   ]
  },
  {
   "cell_type": "code",
   "execution_count": null,
   "metadata": {},
   "outputs": [],
   "source": []
  }
 ],
 "metadata": {
  "kernelspec": {
   "display_name": "Python 3 (ipykernel)",
   "language": "python",
   "name": "python3"
  },
  "language_info": {
   "codemirror_mode": {
    "name": "ipython",
    "version": 3
   },
   "file_extension": ".py",
   "mimetype": "text/x-python",
   "name": "python",
   "nbconvert_exporter": "python",
   "pygments_lexer": "ipython3",
   "version": "3.10.16"
  }
 },
 "nbformat": 4,
 "nbformat_minor": 2
}
