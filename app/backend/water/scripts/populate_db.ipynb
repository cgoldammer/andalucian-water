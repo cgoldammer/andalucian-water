{
 "cells": [
  {
   "cell_type": "code",
   "execution_count": 1,
   "metadata": {},
   "outputs": [],
   "source": [
    "# type: ignore\n",
    "\n",
    "from PIL import Image\n",
    "import requests\n",
    "import numpy as np\n",
    "from PIL import Image\n",
    "\n",
    "import pandas as pd \n",
    "import geopandas as gpd\n",
    "# import osmnx as ox\n",
    "# import networkx as nx\n",
    "\n",
    "import pyproj\n",
    "from shapely.ops import transform\n",
    "\n",
    "import shapely\n",
    "from shapely import Point\n",
    "\n",
    "# import boto3\n",
    "import os\n",
    "import django\n",
    "\n",
    "pd.set_option('display.precision', 2)\n",
    "\n",
    "os.environ.setdefault(\"DJANGO_SETTINGS_MODULE\", \"water.settings\")\n",
    "os.environ[\"DJANGO_ALLOW_ASYNC_UNSAFE\"] = \"true\"\n",
    "django.setup()\n",
    "\n",
    "from water.models import ReservoirState, Reservoir, ReservoirStateSerializer, RainFall\n",
    "from django.db.models import Count\n",
    "\n",
    "from water.utils import parse as p"
   ]
  },
  {
   "cell_type": "code",
   "execution_count": 5,
   "metadata": {},
   "outputs": [
    {
     "data": {
      "text/plain": [
       "{'Embalse de Benínar': 'beninar',\n",
       " 'Embalse de Cuevas de Almanzora': 'cuevas de almanzora',\n",
       " 'Embalse de Almodóvar': 'almodovar',\n",
       " 'Embalse de Arcos': 'arcos',\n",
       " 'Embalse de Barbate': 'barbate',\n",
       " 'Embalse de Bornos': 'bornos',\n",
       " 'Embalse del Celemín': 'celemin',\n",
       " 'Embalse de Charco Redondo': 'charco redondo',\n",
       " 'Embalse de Guadalcacín': 'guadalcacin',\n",
       " 'Embalse de Guadarranque': 'guadarranque',\n",
       " 'Embalse de los Hurones': 'los hurones',\n",
       " 'Embalse de Zahariche': 'zahara',\n",
       " 'Embalse de Zahara - El Gastor': 'zahara - el gastor',\n",
       " 'Embalse del Arenoso': 'arenoso',\n",
       " 'Embalse del Bembézar': 'bembezar',\n",
       " 'Embalse de Guadalmellato': 'guadalmellato',\n",
       " 'Embalse de Guadalén': 'guadanunno',\n",
       " 'Embalse de Iznájar': 'iznajar',\n",
       " 'Embalse de la Feda': 'la brenna',\n",
       " 'Embalse de Martín Gonzalo': 'martin gonzalo',\n",
       " 'Embalse de Puente Nuevo': 'puente nuevo',\n",
       " 'Embalse del Retortillo': 'retortillo',\n",
       " 'Embalse de San Rafael de Navallana': 'san rafael de navallana',\n",
       " 'Embalse de Sierra Boyera': 'sierra boyera',\n",
       " 'Embalse de Yegüas': 'yeguas',\n",
       " 'Embalse de Béznar': 'beznar',\n",
       " 'Embalse de Canales': 'canales',\n",
       " 'Embalse de Colomera': 'colomera',\n",
       " 'Embalse de Cubillas': 'cubillas',\n",
       " 'Embalse del Portillo': 'el portillo',\n",
       " 'Embalse de Tranco de Beas': 'tranco de beas',\n",
       " 'Embalse de los Bermejales': 'los bermejales',\n",
       " 'Embalse de Negratín': 'negratin',\n",
       " 'Embalse de Quéntar': 'quentar',\n",
       " 'Embalse de Rules': 'huesna',\n",
       " 'Embalse de San Clemente': 'san clemente',\n",
       " 'Embalse de Andévalo': 'andevalo',\n",
       " 'Embalse de Aracena': 'aracena',\n",
       " 'Embalse del Chanza': 'chanza',\n",
       " 'Embalse del Corumbel Bajo': 'corumbel bajo',\n",
       " 'Embalse de Jarrama': 'jarrama',\n",
       " 'Embalse de los Machos': 'los machos',\n",
       " 'Embalse del Piedras': 'piedras',\n",
       " 'Embalse de Zufre': 'zufre',\n",
       " 'Embalse de Aguascebas': 'aguascebas',\n",
       " 'Embalse de Dañador': 'dannador',\n",
       " 'Embalse del Giribaile': 'giribaile',\n",
       " 'Embalse de Guadalmena': 'guadalmena',\n",
       " 'Embalse del Jándula': 'jandula',\n",
       " 'Embalse de la Bolera': 'la bolera',\n",
       " 'Embalse de la Fernandina': 'la fernandina',\n",
       " 'Embalse del Quiebrajano': 'quiebrajano',\n",
       " 'Embalse del Rumblar': 'rumblar',\n",
       " 'Embalse de Vadomojón': 'vadomojon',\n",
       " 'Embalse del Víboras': 'viboras',\n",
       " 'Embalse de Casasola': 'casasola',\n",
       " 'Embalse del Conde de Guadalhorce': 'conde de guadalhorce',\n",
       " 'Embalse del Limonero': 'el limonero',\n",
       " 'Embalse de Guadalhorce': 'guadalhorce',\n",
       " 'Embalse de Guadalteba': 'guadalteba',\n",
       " 'Embalse de la Concepción': 'la concepcion',\n",
       " 'Embalse de la Viñuela': 'la vinnuela',\n",
       " 'Embalse de Cala': 'cala',\n",
       " 'Embalse del Agrio': 'el agrio',\n",
       " 'Embalse del Pintado': 'el pintado',\n",
       " 'Embalse de Gergal': 'gergal',\n",
       " 'Embalse de José Torán': 'jose toran',\n",
       " 'Embalse de la Minilla': 'la minilla',\n",
       " 'Embalse de Melonares': 'melonares',\n",
       " 'Embalse de la Puebla de Cazalla': 'puebla de cazalla',\n",
       " 'Embalse de Torre del Aguila': 'torre del aguila'}"
      ]
     },
     "execution_count": 5,
     "metadata": {},
     "output_type": "execute_result"
    }
   ],
   "source": [
    "filename_all = '../../../../data/datasets/all_parsed_cleaned.csv'\n",
    "df_all_raw = pd.read_csv(filename_all).sort_values(['province', 'reservoir', 'ds'])\n",
    "name_df = df_all_raw.reservoir.unique()\n",
    "\n",
    "file = '../../../../data/reservoirs/InfGeografica/InfVectorial/Gpkg/Inv_presas_embalses.gpkg'\n",
    "\n",
    "# Open the file in geopandas\n",
    "gdf_raw = gpd.read_file(file)\n",
    "name_geo = gdf_raw[gdf_raw.nombre.notnull()].nombre.unique()\n",
    "\n",
    "replace_vals = ['embalse del ', 'embalse de ', 'embalse ']\n",
    "\n",
    "def clean_name(name):\n",
    "    for val in replace_vals:\n",
    "        name = name.lower().replace(val, '')\n",
    "    return name\n",
    "\n",
    "names_geo_dict = {name: clean_name(name) for name in name_geo}\n",
    "\n",
    "import difflib\n",
    "\n",
    "diff_obs = difflib.ndiff('ab', 'cd')\n",
    "\n",
    "# Summarize the differences\n",
    "# Show number of changes\n",
    "def diffnum_difflib(a,b):\n",
    "    diff = difflib.ndiff(a, b)\n",
    "    diff = list(diff)\n",
    "    diff = [x for x in diff if x[0] != ' ']\n",
    "    return len(diff)\n",
    "\n",
    "df_matches = pd.DataFrame(columns=['name_df', 'name_geo', 'diff'])\n",
    "df_matches['name_df'] = name_df\n",
    "geo_clean = list(names_geo_dict.values())\n",
    "\n",
    "for i, name in enumerate(name_df):\n",
    "    diffs = []\n",
    "    for j, name2 in enumerate(geo_clean):\n",
    "        diffs.append(diffnum_difflib(name, name2))\n",
    "    df_matches['diff'].iloc[i] = min(diffs)\n",
    "    df_matches['name_geo'].iloc[i] = geo_clean[diffs.index(min(diffs))]\n",
    "\n",
    "df_matches['name_geo_full'] = df_matches['name_geo'].map({v: k for k, v in names_geo_dict.items()})\n",
    "df_matches.sample(10)\n",
    "\n",
    "dict_matches = df_matches.set_index('name_geo_full')['name_df'].to_dict()\n",
    "dict_matches"
   ]
  },
  {
   "cell_type": "code",
   "execution_count": 2,
   "metadata": {},
   "outputs": [],
   "source": [
    "filename_all = '../../../../data/datasets/all_parsed_cleaned.csv'\n",
    "df_all_raw = pd.read_csv(filename_all).sort_values(['province', 'reservoir', 'ds'])"
   ]
  },
  {
   "cell_type": "code",
   "execution_count": 3,
   "metadata": {},
   "outputs": [
    {
     "data": {
      "text/plain": [
       "array([24.7, 22.3])"
      ]
     },
     "execution_count": 3,
     "metadata": {},
     "output_type": "execute_result"
    }
   ],
   "source": [
    "capacities = df_all_raw.groupby(['province', 'reservoir'])['capacity_hm3'].agg(['last', 'nunique']).reset_index()\n",
    "\n",
    "df_all_raw.query('reservoir==\"el limonero\"').capacity_hm3.unique()"
   ]
  },
  {
   "cell_type": "code",
   "execution_count": 16,
   "metadata": {},
   "outputs": [
    {
     "data": {
      "text/plain": [
       "array(['almeria', 'cadiz', 'cordoba', 'granada', 'huelva', 'jaen',\n",
       "       'malaga', 'sevilla'], dtype=object)"
      ]
     },
     "execution_count": 16,
     "metadata": {},
     "output_type": "execute_result"
    }
   ],
   "source": [
    "df_all_raw.province.unique()"
   ]
  },
  {
   "cell_type": "code",
   "execution_count": 4,
   "metadata": {},
   "outputs": [
    {
     "data": {
      "text/html": [
       "<div>\n",
       "<style scoped>\n",
       "    .dataframe tbody tr th:only-of-type {\n",
       "        vertical-align: middle;\n",
       "    }\n",
       "\n",
       "    .dataframe tbody tr th {\n",
       "        vertical-align: top;\n",
       "    }\n",
       "\n",
       "    .dataframe thead th {\n",
       "        text-align: right;\n",
       "    }\n",
       "</style>\n",
       "<table border=\"1\" class=\"dataframe\">\n",
       "  <thead>\n",
       "    <tr style=\"text-align: right;\">\n",
       "      <th></th>\n",
       "      <th>province</th>\n",
       "      <th>reservoir</th>\n",
       "      <th>last</th>\n",
       "      <th>nunique</th>\n",
       "    </tr>\n",
       "  </thead>\n",
       "  <tbody>\n",
       "    <tr>\n",
       "      <th>63</th>\n",
       "      <td>malaga</td>\n",
       "      <td>la vinnuela</td>\n",
       "      <td>165.4</td>\n",
       "      <td>1</td>\n",
       "    </tr>\n",
       "    <tr>\n",
       "      <th>61</th>\n",
       "      <td>malaga</td>\n",
       "      <td>guadalteba</td>\n",
       "      <td>153.3</td>\n",
       "      <td>1</td>\n",
       "    </tr>\n",
       "    <tr>\n",
       "      <th>60</th>\n",
       "      <td>malaga</td>\n",
       "      <td>guadalhorce</td>\n",
       "      <td>125.7</td>\n",
       "      <td>1</td>\n",
       "    </tr>\n",
       "    <tr>\n",
       "      <th>58</th>\n",
       "      <td>malaga</td>\n",
       "      <td>conde de guadalhorce</td>\n",
       "      <td>66.5</td>\n",
       "      <td>1</td>\n",
       "    </tr>\n",
       "    <tr>\n",
       "      <th>62</th>\n",
       "      <td>malaga</td>\n",
       "      <td>la concepcion</td>\n",
       "      <td>61.9</td>\n",
       "      <td>1</td>\n",
       "    </tr>\n",
       "  </tbody>\n",
       "</table>\n",
       "</div>"
      ],
      "text/plain": [
       "   province             reservoir   last  nunique\n",
       "63   malaga           la vinnuela  165.4        1\n",
       "61   malaga            guadalteba  153.3        1\n",
       "60   malaga           guadalhorce  125.7        1\n",
       "58   malaga  conde de guadalhorce   66.5        1\n",
       "62   malaga         la concepcion   61.9        1"
      ]
     },
     "execution_count": 4,
     "metadata": {},
     "output_type": "execute_result"
    }
   ],
   "source": [
    "ds_start = \"2012-09-01\"\n",
    "province = \"malaga\"\n",
    "num_states = 10000\n",
    "num_res_max = 5\n",
    "\n",
    "capacities = df_all_raw.groupby(['province', 'reservoir'])['capacity_hm3'].agg(['last', 'nunique']).reset_index()\n",
    "capacities = capacities[capacities.province == province].copy()\n",
    "capacities = capacities.sort_values('last', ascending=False).head(num_res_max)\n",
    "# capacities = capacities[capacities['nunique'] ==1].copy()\n",
    "# assert capacities['nunique'].max() == 1\n",
    "capacities\n",
    "\n",
    "df_selected = df_all_raw[df_all_raw.reservoir.isin(capacities.reservoir.unique())]\n",
    "df_selected = df_selected[df_selected.ds >= ds_start].copy()\n",
    "\n",
    "capacities"
   ]
  },
  {
   "cell_type": "code",
   "execution_count": 7,
   "metadata": {},
   "outputs": [
    {
     "data": {
      "text/plain": [
       "{'beninar': 'Embalse de Benínar',\n",
       " 'cuevas de almanzora': 'Embalse de Cuevas de Almanzora',\n",
       " 'almodovar': 'Embalse de Almodóvar',\n",
       " 'arcos': 'Embalse de Arcos',\n",
       " 'barbate': 'Embalse de Barbate',\n",
       " 'bornos': 'Embalse de Bornos',\n",
       " 'celemin': 'Embalse del Celemín',\n",
       " 'charco redondo': 'Embalse de Charco Redondo',\n",
       " 'guadalcacin': 'Embalse de Guadalcacín',\n",
       " 'guadarranque': 'Embalse de Guadarranque',\n",
       " 'los hurones': 'Embalse de los Hurones',\n",
       " 'zahara': 'Embalse de Zahariche',\n",
       " 'zahara - el gastor': 'Embalse de Zahara - El Gastor',\n",
       " 'arenoso': 'Embalse del Arenoso',\n",
       " 'bembezar': 'Embalse del Bembézar',\n",
       " 'guadalmellato': 'Embalse de Guadalmellato',\n",
       " 'guadanunno': 'Embalse de Guadalén',\n",
       " 'iznajar': 'Embalse de Iznájar',\n",
       " 'la brenna': 'Embalse de la Feda',\n",
       " 'martin gonzalo': 'Embalse de Martín Gonzalo',\n",
       " 'puente nuevo': 'Embalse de Puente Nuevo',\n",
       " 'retortillo': 'Embalse del Retortillo',\n",
       " 'san rafael de navallana': 'Embalse de San Rafael de Navallana',\n",
       " 'sierra boyera': 'Embalse de Sierra Boyera',\n",
       " 'yeguas': 'Embalse de Yegüas',\n",
       " 'beznar': 'Embalse de Béznar',\n",
       " 'canales': 'Embalse de Canales',\n",
       " 'colomera': 'Embalse de Colomera',\n",
       " 'cubillas': 'Embalse de Cubillas',\n",
       " 'el portillo': 'Embalse del Portillo',\n",
       " 'tranco de beas': 'Embalse de Tranco de Beas',\n",
       " 'los bermejales': 'Embalse de los Bermejales',\n",
       " 'negratin': 'Embalse de Negratín',\n",
       " 'quentar': 'Embalse de Quéntar',\n",
       " 'huesna': 'Embalse de Rules',\n",
       " 'san clemente': 'Embalse de San Clemente',\n",
       " 'andevalo': 'Embalse de Andévalo',\n",
       " 'aracena': 'Embalse de Aracena',\n",
       " 'chanza': 'Embalse del Chanza',\n",
       " 'corumbel bajo': 'Embalse del Corumbel Bajo',\n",
       " 'jarrama': 'Embalse de Jarrama',\n",
       " 'los machos': 'Embalse de los Machos',\n",
       " 'piedras': 'Embalse del Piedras',\n",
       " 'zufre': 'Embalse de Zufre',\n",
       " 'aguascebas': 'Embalse de Aguascebas',\n",
       " 'dannador': 'Embalse de Dañador',\n",
       " 'giribaile': 'Embalse del Giribaile',\n",
       " 'guadalmena': 'Embalse de Guadalmena',\n",
       " 'jandula': 'Embalse del Jándula',\n",
       " 'la bolera': 'Embalse de la Bolera',\n",
       " 'la fernandina': 'Embalse de la Fernandina',\n",
       " 'quiebrajano': 'Embalse del Quiebrajano',\n",
       " 'rumblar': 'Embalse del Rumblar',\n",
       " 'vadomojon': 'Embalse de Vadomojón',\n",
       " 'viboras': 'Embalse del Víboras',\n",
       " 'casasola': 'Embalse de Casasola',\n",
       " 'conde de guadalhorce': 'Embalse del Conde de Guadalhorce',\n",
       " 'el limonero': 'Embalse del Limonero',\n",
       " 'guadalhorce': 'Embalse de Guadalhorce',\n",
       " 'guadalteba': 'Embalse de Guadalteba',\n",
       " 'la concepcion': 'Embalse de la Concepción',\n",
       " 'la vinnuela': 'Embalse de la Viñuela',\n",
       " 'cala': 'Embalse de Cala',\n",
       " 'el agrio': 'Embalse del Agrio',\n",
       " 'el pintado': 'Embalse del Pintado',\n",
       " 'gergal': 'Embalse de Gergal',\n",
       " 'jose toran': 'Embalse de José Torán',\n",
       " 'la minilla': 'Embalse de la Minilla',\n",
       " 'melonares': 'Embalse de Melonares',\n",
       " 'puebla de cazalla': 'Embalse de la Puebla de Cazalla',\n",
       " 'torre del aguila': 'Embalse de Torre del Aguila'}"
      ]
     },
     "execution_count": 7,
     "metadata": {},
     "output_type": "execute_result"
    }
   ],
   "source": [
    "name_to_full = {v: k for (k, v) in dict_matches.items()}\n",
    "name_to_full"
   ]
  },
  {
   "cell_type": "code",
   "execution_count": 8,
   "metadata": {},
   "outputs": [
    {
     "name": "stdout",
     "output_type": "stream",
     "text": [
      "2859\n"
     ]
    },
    {
     "data": {
      "text/plain": [
       "2859"
      ]
     },
     "execution_count": 8,
     "metadata": {},
     "output_type": "execute_result"
    }
   ],
   "source": [
    "ReservoirState.objects.all().delete()\n",
    "Reservoir.objects.all().delete()\n",
    "\n",
    "for _, row in capacities.iterrows():\n",
    "    name=row['reservoir']\n",
    "    province = row['province']\n",
    "    name_full = name_to_full[name]\n",
    "    reservoir = Reservoir.objects.create(name=row['reservoir'], name_full=name_full, province=province, capacity=row['last'])\n",
    "    reservoir.save()\n",
    "    \n",
    "print(len(df_selected))\n",
    "    \n",
    "for _, row in df_selected.head(num_states).iterrows():\n",
    "    reservoir = Reservoir.objects.get(name=row['reservoir'])\n",
    "    state = ReservoirState.objects.create(\n",
    "        reservoir=reservoir,\n",
    "        date=row['ds'],\n",
    "        volume=row['stored_hm3'],\n",
    "    )\n",
    "    state.save()\n",
    "    \n",
    "ReservoirState.objects.all().count()"
   ]
  },
  {
   "cell_type": "code",
   "execution_count": 11,
   "metadata": {},
   "outputs": [
    {
     "data": {
      "text/plain": [
       "'malaga'"
      ]
     },
     "execution_count": 11,
     "metadata": {},
     "output_type": "execute_result"
    }
   ],
   "source": [
    "Reservoir.objects.all()[0].province"
   ]
  },
  {
   "cell_type": "code",
   "execution_count": 12,
   "metadata": {},
   "outputs": [
    {
     "data": {
      "text/plain": [
       "(2859, 2859)"
      ]
     },
     "execution_count": 12,
     "metadata": {},
     "output_type": "execute_result"
    }
   ],
   "source": [
    "df_all = p.add_cols(df_selected)\n",
    "df_all['date_lag'] = df_all.groupby(['province', 'reservoir'])['date'].shift(1)\n",
    "df_all['date_diff'] = (df_all.date - df_all.date_lag).dt.days\n",
    "\n",
    "cols = ['rainfallsince', 'stored_hm3', 'capacity_hm3']\n",
    "for var in ['rainfallsince', 'stored_hm3']:\n",
    "    df_all[f'{var}_diff'] = df_all.groupby(['province', 'reservoir'])[var].diff()\n",
    "    df_all[f'{var}_diff_0'] = df_all[f'{var}_diff']\n",
    "    for lags in range(1, 10):\n",
    "        df_all[f'{var}_diff_{lags}'] = df_all.groupby(['province', 'reservoir'])[f'{var}_diff'].shift(lags)\n",
    "\n",
    "# Delete all rainfall objects\n",
    "RainFall.objects.all().delete()\n",
    "\n",
    "# Get all reservoirs with state data\n",
    "reservoirs = Reservoir.objects.annotate(\n",
    "        num_states=Count(\"reservoir_reservoirstate\")\n",
    "    ).filter(num_states__gt=0)\n",
    "\n",
    "reservoir_names = reservoirs.values_list('name', flat=True)\n",
    "\n",
    "for _, row in df_all[df_all.reservoir.isin(reservoir_names)].head(num_states).iterrows():\n",
    "    reservoir = Reservoir.objects.get(name=row['reservoir'])\n",
    "    rainfall = RainFall.objects.create(\n",
    "        date=row['ds'],\n",
    "        reservoir=reservoir,\n",
    "        amount=row['rainfallsince_diff'],\n",
    "        amount_cumulative=row['rainfallsince'],\n",
    "        amount_cumulative_historical=row['avgrainfall1971_2000'],\n",
    "    )\n",
    "len(df_all), RainFall.objects.all().count()"
   ]
  },
  {
   "cell_type": "code",
   "execution_count": 13,
   "metadata": {},
   "outputs": [
    {
     "data": {
      "text/plain": [
       "(2859, 2859)"
      ]
     },
     "execution_count": 13,
     "metadata": {},
     "output_type": "execute_result"
    }
   ],
   "source": [
    "RainFall.objects.all().count(), ReservoirState.objects.all().count()"
   ]
  },
  {
   "cell_type": "markdown",
   "metadata": {},
   "source": [
    "# Reservoir Map"
   ]
  },
  {
   "cell_type": "code",
   "execution_count": 14,
   "metadata": {},
   "outputs": [
    {
     "data": {
      "text/plain": [
       "{'la vinnuela': 'a3122a79-764d-4ef3-87b4-5dda3ff8c033',\n",
       " 'guadalteba': '64afab63-8e11-4512-aedc-37278da2d704',\n",
       " 'guadalhorce': '530d3cd9-a6c2-4a46-8f10-7d868332015a',\n",
       " 'conde de guadalhorce': '222a934c-b6b4-41bc-8b40-0812344d3f59',\n",
       " 'la concepcion': '28bb8e8b-3dfc-47ed-bdec-87ae8fc0bb9d'}"
      ]
     },
     "execution_count": 14,
     "metadata": {},
     "output_type": "execute_result"
    }
   ],
   "source": [
    "# Get the data from the database with uuid and name\n",
    "reservoirs = Reservoir.objects.all()\n",
    "reservoirs = reservoirs.values_list('name', 'uuid')\n",
    "# Turn this into a dict with the name being the key\n",
    "reservoirs_dict = {name: str(uuid) for name, uuid in reservoirs}\n",
    "reservoirs_dict"
   ]
  },
  {
   "cell_type": "code",
   "execution_count": 15,
   "metadata": {},
   "outputs": [
    {
     "data": {
      "text/plain": [
       "cod_emb                                                         8.0\n",
       "nombre                             Embalse del Conde de Guadalhorce\n",
       "cod_est                                                         S31\n",
       "cod_roea                                                        n/e\n",
       "idemb_cbrh                                                4009302.0\n",
       "cod_massup                                                     None\n",
       "fuente_nom        Mapa Topográfico de Andalucía 1:10000. Restitu...\n",
       "area                                                      4699644.0\n",
       "perimetro                                                   30445.0\n",
       "fecha_alta                                                     2010\n",
       "fecha_baja                                                        0\n",
       "geometry          POLYGON ((-4.839423060945539 36.89797341929856...\n",
       "name_data                                      conde de guadalhorce\n",
       "reservoir_uuid                 222a934c-b6b4-41bc-8b40-0812344d3f59\n",
       "Name: 7, dtype: object"
      ]
     },
     "execution_count": 15,
     "metadata": {},
     "output_type": "execute_result"
    }
   ],
   "source": [
    "filename = '../../../frontend/src/data/reservoirs.json'\n",
    "gdf = gdf_raw[gdf_raw.nombre.isin(df_matches['name_geo_full'])].copy()\n",
    "gdf['name_data'] = [dict_matches[n] for n in gdf.nombre]\n",
    "gdf['reservoir_uuid'] = [reservoirs_dict.get(name) for name in gdf['name_data']]\n",
    "gdf.geometry = gdf.geometry.simplify(100)\n",
    "# Turn this into a geo crs\n",
    "gdf = gdf.to_crs(\"EPSG:4326\")\n",
    "\n",
    "gdf = gdf[gdf.reservoir_uuid.notnull()].copy()\n",
    "\n",
    "gdf.to_file(filename, driver='GeoJSON')\n",
    "gdf.iloc[0]"
   ]
  },
  {
   "cell_type": "code",
   "execution_count": null,
   "metadata": {},
   "outputs": [],
   "source": []
  }
 ],
 "metadata": {
  "kernelspec": {
   "display_name": "Python 3 (ipykernel)",
   "language": "python",
   "name": "python3"
  }
 },
 "nbformat": 4,
 "nbformat_minor": 2
}
