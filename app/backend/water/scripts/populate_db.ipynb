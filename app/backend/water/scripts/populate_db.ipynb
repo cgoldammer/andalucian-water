{
 "cells": [
  {
   "cell_type": "code",
   "execution_count": 5,
   "metadata": {},
   "outputs": [],
   "source": [
    "from PIL import Image\n",
    "import requests\n",
    "import numpy as np\n",
    "from PIL import Image\n",
    "\n",
    "import pandas as pd \n",
    "import geopandas as gpd\n",
    "# import osmnx as ox\n",
    "# import networkx as nx\n",
    "\n",
    "import pyproj\n",
    "from shapely.ops import transform\n",
    "\n",
    "import shapely\n",
    "from shapely import Point\n",
    "\n",
    "# import boto3\n",
    "import os\n",
    "import django\n",
    "\n",
    "pd.set_option('display.precision', 2)\n",
    "\n",
    "os.environ.setdefault(\"DJANGO_SETTINGS_MODULE\", \"water.settings\")\n",
    "os.environ[\"DJANGO_ALLOW_ASYNC_UNSAFE\"] = \"true\"\n",
    "django.setup()\n",
    "\n",
    "from water.models import ReservoirState, Reservoir, ReservoirStateSerializer, RainFall\n",
    "\n",
    "from water.utils import parse as p"
   ]
  },
  {
   "cell_type": "code",
   "execution_count": 23,
   "metadata": {},
   "outputs": [],
   "source": [
    "filename_all = '../../../../data/datasets/all_parsed_cleaned.csv'\n",
    "df_all_raw = pd.read_csv(filename_all).sort_values(['province', 'reservoir', 'ds'])"
   ]
  },
  {
   "cell_type": "code",
   "execution_count": 24,
   "metadata": {},
   "outputs": [],
   "source": [
    "capacities = df_all_raw.groupby(['province', 'reservoir'])['capacity_hm3'].agg(['first', 'nunique']).reset_index()\n",
    "capacities = capacities[capacities['nunique'] ==1].copy()\n",
    "assert capacities['nunique'].max() == 1\n",
    "capacities = capacities.query('province==\"malaga\"')\n",
    "capacities\n",
    "\n",
    "df_selected = df_all_raw[df_all_raw.reservoir.isin(capacities.reservoir.unique())]"
   ]
  },
  {
   "cell_type": "code",
   "execution_count": 18,
   "metadata": {},
   "outputs": [
    {
     "data": {
      "text/plain": [
       "(105, {'water.RainFall': 100, 'water.Reservoir': 5})"
      ]
     },
     "execution_count": 18,
     "metadata": {},
     "output_type": "execute_result"
    }
   ],
   "source": [
    "ReservoirState.objects.all().delete()\n",
    "Reservoir.objects.all().delete()"
   ]
  },
  {
   "cell_type": "code",
   "execution_count": 25,
   "metadata": {},
   "outputs": [
    {
     "name": "stdout",
     "output_type": "stream",
     "text": [
      "2859\n"
     ]
    },
    {
     "data": {
      "text/plain": [
       "100"
      ]
     },
     "execution_count": 25,
     "metadata": {},
     "output_type": "execute_result"
    }
   ],
   "source": [
    "ReservoirState.objects.all().delete()\n",
    "Reservoir.objects.all().delete()\n",
    "num_states = 100\n",
    "\n",
    "for _, row in capacities.iterrows():\n",
    "    reservoir = Reservoir.objects.create(name=row['reservoir'], capacity=row['first'])\n",
    "    reservoir.save()\n",
    "    \n",
    "\n",
    "print(len(df_selected))\n",
    "    \n",
    "for _, row in df_selected.head(num_states).iterrows():\n",
    "    reservoir = Reservoir.objects.get(name=row['reservoir'])\n",
    "    state = ReservoirState.objects.create(\n",
    "        reservoir=reservoir,\n",
    "        date=row['ds'],\n",
    "        volume=row['stored_hm3'],\n",
    "    )\n",
    "    state.save()\n",
    "    \n",
    "ReservoirState.objects.all().count()"
   ]
  },
  {
   "cell_type": "code",
   "execution_count": 40,
   "metadata": {},
   "outputs": [
    {
     "data": {
      "text/plain": [
       "2859"
      ]
     },
     "execution_count": 40,
     "metadata": {},
     "output_type": "execute_result"
    }
   ],
   "source": [
    "df_all = p.add_cols(df_selected)\n",
    "df_all['date_lag'] = df_all.groupby(['province', 'reservoir'])['date'].shift(1)\n",
    "df_all['date_diff'] = (df_all.date - df_all.date_lag).dt.days\n",
    "\n",
    "cols = ['rainfallsince', 'stored_hm3', 'capacity_hm3']\n",
    "for var in ['rainfallsince', 'stored_hm3']:\n",
    "    df_all[f'{var}_diff'] = df_all.groupby(['province', 'reservoir'])[var].diff()\n",
    "    df_all[f'{var}_diff_0'] = df_all[f'{var}_diff']\n",
    "    for lags in range(1, 10):\n",
    "        df_all[f'{var}_diff_{lags}'] = df_all.groupby(['province', 'reservoir'])[f'{var}_diff'].shift(lags)\n",
    "        \n",
    "len(df_all.query('date_diff == 1'))\n",
    "len(df_all)"
   ]
  },
  {
   "cell_type": "code",
   "execution_count": 42,
   "metadata": {},
   "outputs": [
    {
     "data": {
      "text/plain": [
       "100"
      ]
     },
     "execution_count": 42,
     "metadata": {},
     "output_type": "execute_result"
    }
   ],
   "source": [
    "# Delete all rainfall objects\n",
    "RainFall.objects.all().delete()\n",
    "\n",
    "# Get all reservoirs with state data\n",
    "reservoirs = Reservoir.objects.annotate(\n",
    "        num_states=Count(\"reservoir_reservoirstate\")\n",
    "    ).filter(num_states__gt=0)\n",
    "\n",
    "reservoir_names = reservoirs.values_list('name', flat=True)\n",
    "\n",
    "nums = 100\n",
    "\n",
    "for _, row in df_all[df_all.reservoir.isin(reservoir_names)].query('date_diff == 1').head(nums).iterrows():\n",
    "    reservoir = Reservoir.objects.get(name=row['reservoir'])\n",
    "    rainfall = RainFall.objects.create(\n",
    "        date=row['ds'],\n",
    "        reservoir=reservoir,\n",
    "        amount=row['rainfallsince_diff']\n",
    "    )\n",
    "RainFall.objects.all().count()"
   ]
  },
  {
   "cell_type": "code",
   "execution_count": 43,
   "metadata": {},
   "outputs": [
    {
     "data": {
      "text/plain": [
       "<QuerySet ['conde de guadalhorce']>"
      ]
     },
     "execution_count": 43,
     "metadata": {},
     "output_type": "execute_result"
    }
   ],
   "source": [
    "reservoir_names"
   ]
  },
  {
   "cell_type": "code",
   "execution_count": null,
   "metadata": {},
   "outputs": [],
   "source": []
  }
 ],
 "metadata": {
  "kernelspec": {
   "display_name": "Python 3 (ipykernel)",
   "language": "python",
   "name": "python3"
  },
  "language_info": {
   "codemirror_mode": {
    "name": "ipython",
    "version": 3
   },
   "file_extension": ".py",
   "mimetype": "text/x-python",
   "name": "python",
   "nbconvert_exporter": "python",
   "pygments_lexer": "ipython3",
   "version": "3.10.13"
  }
 },
 "nbformat": 4,
 "nbformat_minor": 2
}
