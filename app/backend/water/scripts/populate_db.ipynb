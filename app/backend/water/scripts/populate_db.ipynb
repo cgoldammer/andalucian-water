{
 "cells": [
  {
   "cell_type": "code",
   "execution_count": 1,
   "metadata": {},
   "outputs": [],
   "source": [
    "##### WARNING: SHOULD BE IGNORED\n",
    "# USE setup_data.py\n",
    "\n",
    "# type: ignore\n",
    "\n",
    "from PIL import Image\n",
    "import requests\n",
    "import numpy as np\n",
    "import pandas as pd \n",
    "import geopandas as gpd\n",
    "import pyproj\n",
    "from shapely.ops import transform\n",
    "import shapely\n",
    "from shapely import Point\n",
    "import os\n",
    "import django\n",
    "\n",
    "env='dev'\n",
    "pd.set_option('display.precision', 2)\n",
    "os.environ.setdefault(\"DJANGO_SETTINGS_MODULE\", f\"water.settings.{env}\")\n",
    "os.environ[\"DJANGO_ALLOW_ASYNC_UNSAFE\"] = \"true\"\n",
    "django.setup()\n",
    "\n",
    "from water import models as m\n",
    "from django.db.models import Count\n",
    "from water.utils import parse as p"
   ]
  },
  {
   "cell_type": "code",
   "execution_count": 25,
   "metadata": {},
   "outputs": [
    {
     "data": {
      "text/plain": [
       "<QuerySet []>"
      ]
     },
     "execution_count": 25,
     "metadata": {},
     "output_type": "execute_result"
    }
   ],
   "source": [
    "from water.utils import data\n",
    "\n",
    "m.ReservoirGeo.objects.all()"
   ]
  },
  {
   "cell_type": "code",
   "execution_count": 2,
   "metadata": {},
   "outputs": [
    {
     "data": {
      "text/plain": [
       "array([24.7, 22.3])"
      ]
     },
     "execution_count": 2,
     "metadata": {},
     "output_type": "execute_result"
    }
   ],
   "source": [
    "filename_all = p.filename_csv_all\n",
    "df_all_raw = pd.read_csv(filename_all).sort_values(['province', 'reservoir', 'ds'])\n",
    "name_df = df_all_raw.reservoir.unique()\n",
    "\n",
    "file = f'{p.folder_data}/raw/reservoirs/InfGeografica/InfVectorial/Gpkg/Inv_presas_embalses.gpkg'\n",
    "\n",
    "# Open the file in geopandas\n",
    "gdf_raw = gpd.read_file(file)\n",
    "\n",
    "name_geo = gdf_raw[gdf_raw.nombre.notnull()].nombre.unique()\n",
    "\n",
    "replace_vals = ['embalse del ', 'embalse de ', 'embalse ']\n",
    "\n",
    "def clean_name(name):\n",
    "    for val in replace_vals:\n",
    "        name = name.lower().replace(val, '')\n",
    "    return name\n",
    "\n",
    "names_geo_dict = {name: clean_name(name) for name in name_geo}\n",
    "\n",
    "import difflib\n",
    "\n",
    "diff_obs = difflib.ndiff('ab', 'cd')\n",
    "\n",
    "# Summarize the differences\n",
    "# Show number of changes\n",
    "def diffnum_difflib(a,b):\n",
    "    diff = difflib.ndiff(a, b)\n",
    "    diff = list(diff)\n",
    "    diff = [x for x in diff if x[0] != ' ']\n",
    "    return len(diff)\n",
    "\n",
    "df_matches = pd.DataFrame(columns=['name_df', 'name_geo', 'diff'])\n",
    "df_matches['name_df'] = name_df\n",
    "geo_clean = list(names_geo_dict.values())\n",
    "\n",
    "for i, name in enumerate(name_df):\n",
    "    diffs = []\n",
    "    for j, name2 in enumerate(geo_clean):\n",
    "        diffs.append(diffnum_difflib(name, name2))\n",
    "    df_matches['diff'].iloc[i] = min(diffs)\n",
    "    df_matches['name_geo'].iloc[i] = geo_clean[diffs.index(min(diffs))]\n",
    "\n",
    "df_matches['name_geo_full'] = df_matches['name_geo'].map({v: k for k, v in names_geo_dict.items()})\n",
    "df_matches.sample(10)\n",
    "\n",
    "dict_matches = df_matches.set_index('name_geo_full')['name_df'].to_dict()\n",
    "\n",
    "capacities = df_all_raw.groupby(['province', 'reservoir'])['capacity_hm3'].agg(['last', 'nunique']).reset_index()\n",
    "df_all_raw.query('reservoir==\"el limonero\"').capacity_hm3.unique()\n"
   ]
  },
  {
   "cell_type": "code",
   "execution_count": 8,
   "metadata": {},
   "outputs": [],
   "source": [
    "ds_start = \"2012-09-01\"\n",
    "province = \"malaga\"\n",
    "num_states = 10000\n",
    "num_res_max = 5\n",
    "\n",
    "capacities = df_all_raw.groupby(['province', 'reservoir'])['capacity_hm3'].agg(['last', 'nunique']).reset_index()\n",
    "capacities = capacities[capacities.province == province].copy()\n",
    "capacities = capacities.sort_values('last', ascending=False).head(num_res_max)\n",
    "capacities\n",
    "\n",
    "df_selected = df_all_raw[df_all_raw.reservoir.isin(capacities.reservoir.unique())]\n",
    "df_selected = df_selected[df_selected.ds >= ds_start].copy()\n",
    "\n",
    "name_to_full = {v: k for (k, v) in dict_matches.items()}"
   ]
  },
  {
   "cell_type": "code",
   "execution_count": 9,
   "metadata": {},
   "outputs": [
    {
     "name": "stdout",
     "output_type": "stream",
     "text": [
      "4406\n"
     ]
    },
    {
     "data": {
      "text/plain": [
       "4406"
      ]
     },
     "execution_count": 9,
     "metadata": {},
     "output_type": "execute_result"
    }
   ],
   "source": [
    "m.ReservoirState.objects.all().delete()\n",
    "m.Reservoir.objects.all().delete()\n",
    "\n",
    "for _, row in capacities.iterrows():\n",
    "    name=row['reservoir']\n",
    "    province = row['province']\n",
    "    name_full = name_to_full[name]\n",
    "    reservoir = m.Reservoir.objects.create(name=row['reservoir'], name_full=name_full, province=province, capacity=row['last'])\n",
    "    reservoir.save()\n",
    "    \n",
    "print(len(df_selected))\n",
    "    \n",
    "for _, row in df_selected.head(num_states).iterrows():\n",
    "    reservoir = m.Reservoir.objects.get(name=row['reservoir'])\n",
    "    state = m.ReservoirState.objects.create(\n",
    "        reservoir=reservoir,\n",
    "        date=row['ds'],\n",
    "        volume=row['stored_hm3'],\n",
    "    )\n",
    "    state.save()\n",
    "    \n",
    "m.ReservoirState.objects.all().count()"
   ]
  },
  {
   "cell_type": "code",
   "execution_count": 6,
   "metadata": {},
   "outputs": [
    {
     "data": {
      "text/plain": [
       "(4406, 4406)"
      ]
     },
     "execution_count": 6,
     "metadata": {},
     "output_type": "execute_result"
    }
   ],
   "source": [
    "df_all = p.add_cols(df_selected)\n",
    "df_all['date_lag'] = df_all.groupby(['province', 'reservoir'])['date'].shift(1)\n",
    "df_all['date_diff'] = (df_all.date - df_all.date_lag).dt.days\n",
    "\n",
    "cols = ['rainfallsince', 'stored_hm3', 'capacity_hm3']\n",
    "for var in ['rainfallsince', 'stored_hm3']:\n",
    "    df_all[f'{var}_diff'] = df_all.groupby(['province', 'reservoir'])[var].diff()\n",
    "    df_all[f'{var}_diff_0'] = df_all[f'{var}_diff']\n",
    "    for lags in range(1, 10):\n",
    "        df_all[f'{var}_diff_{lags}'] = df_all.groupby(['province', 'reservoir'])[f'{var}_diff'].shift(lags)\n",
    "\n",
    "# Delete all rainfall objects\n",
    "m.RainFall.objects.all().delete()\n",
    "\n",
    "# Get all reservoirs with state data\n",
    "reservoirs = m.Reservoir.objects.annotate(\n",
    "        num_states=Count(\"reservoir_reservoirstate\")\n",
    "    ).filter(num_states__gt=0)\n",
    "\n",
    "reservoir_names = reservoirs.values_list('name', flat=True)\n",
    "\n",
    "for _, row in df_all[df_all.reservoir.isin(reservoir_names)].head(num_states).iterrows():\n",
    "    reservoir = m.Reservoir.objects.get(name=row['reservoir'])\n",
    "    rainfall = m.RainFall.objects.create(\n",
    "        date=row['ds'],\n",
    "        reservoir=reservoir,\n",
    "        amount=row['rainfallsince_diff'],\n",
    "        amount_cumulative=row['rainfallsince'],\n",
    "        amount_cumulative_historical=row['avgrainfall1971_2000'],\n",
    "    )\n",
    "len(df_all), m.RainFall.objects.all().count()"
   ]
  },
  {
   "cell_type": "code",
   "execution_count": 10,
   "metadata": {},
   "outputs": [
    {
     "data": {
      "text/plain": [
       "(0, 4406)"
      ]
     },
     "execution_count": 10,
     "metadata": {},
     "output_type": "execute_result"
    }
   ],
   "source": [
    "m.RainFall.objects.all().count(), m.ReservoirState.objects.all().count()"
   ]
  },
  {
   "cell_type": "markdown",
   "metadata": {},
   "source": [
    "# Reservoir Map"
   ]
  },
  {
   "cell_type": "code",
   "execution_count": 11,
   "metadata": {},
   "outputs": [
    {
     "data": {
      "text/plain": [
       "{'la vinnuela': '0650e713-5ed4-4b9e-87a6-28b0dd4bf3ef',\n",
       " 'guadalteba': '9fc5281c-13fc-41e3-8ee8-1a68f1a61244',\n",
       " 'guadalhorce': '7d2e0c20-9d88-424d-9fe0-c9c67d32f436',\n",
       " 'conde de guadalhorce': '6dd64514-af0e-4a72-8a64-ea8fc694e9d9',\n",
       " 'la concepcion': '96ff0189-7b28-42a2-a772-0487d493af7e'}"
      ]
     },
     "execution_count": 11,
     "metadata": {},
     "output_type": "execute_result"
    }
   ],
   "source": [
    "# Get the data from the database with uuid and name\n",
    "reservoirs = m.Reservoir.objects.all()\n",
    "reservoirs = reservoirs.values_list('name', 'uuid')\n",
    "# Turn this into a dict with the name being the key\n",
    "reservoirs_dict = {name: str(uuid) for name, uuid in reservoirs}\n",
    "reservoirs_dict"
   ]
  },
  {
   "cell_type": "code",
   "execution_count": 20,
   "metadata": {},
   "outputs": [
    {
     "data": {
      "text/html": [
       "<div>\n",
       "<style scoped>\n",
       "    .dataframe tbody tr th:only-of-type {\n",
       "        vertical-align: middle;\n",
       "    }\n",
       "\n",
       "    .dataframe tbody tr th {\n",
       "        vertical-align: top;\n",
       "    }\n",
       "\n",
       "    .dataframe thead th {\n",
       "        text-align: right;\n",
       "    }\n",
       "</style>\n",
       "<table border=\"1\" class=\"dataframe\">\n",
       "  <thead>\n",
       "    <tr style=\"text-align: right;\">\n",
       "      <th></th>\n",
       "      <th>cod_emb</th>\n",
       "      <th>nombre</th>\n",
       "      <th>cod_est</th>\n",
       "      <th>cod_roea</th>\n",
       "      <th>idemb_cbrh</th>\n",
       "      <th>cod_massup</th>\n",
       "      <th>fuente_nom</th>\n",
       "      <th>area</th>\n",
       "      <th>perimetro</th>\n",
       "      <th>fecha_alta</th>\n",
       "      <th>fecha_baja</th>\n",
       "      <th>geometry</th>\n",
       "      <th>name_data</th>\n",
       "      <th>reservoir_uuid</th>\n",
       "    </tr>\n",
       "  </thead>\n",
       "  <tbody>\n",
       "    <tr>\n",
       "      <th>7</th>\n",
       "      <td>8.0</td>\n",
       "      <td>Embalse del Conde de Guadalhorce</td>\n",
       "      <td>S31</td>\n",
       "      <td>n/e</td>\n",
       "      <td>4.01e+06</td>\n",
       "      <td>None</td>\n",
       "      <td>Mapa Topográfico de Andalucía 1:10000. Restitu...</td>\n",
       "      <td>4.70e+06</td>\n",
       "      <td>30445.0</td>\n",
       "      <td>2010</td>\n",
       "      <td>0</td>\n",
       "      <td>POLYGON ((-4.83942 36.89797, -4.83882 36.89801...</td>\n",
       "      <td>conde de guadalhorce</td>\n",
       "      <td>6dd64514-af0e-4a72-8a64-ea8fc694e9d9</td>\n",
       "    </tr>\n",
       "    <tr>\n",
       "      <th>162</th>\n",
       "      <td>163.0</td>\n",
       "      <td>Embalse de la Concepción</td>\n",
       "      <td>S16</td>\n",
       "      <td>n/e</td>\n",
       "      <td>4.01e+06</td>\n",
       "      <td>None</td>\n",
       "      <td>Mapa Topográfico de Andalucía 1:10000. Restitu...</td>\n",
       "      <td>1.91e+06</td>\n",
       "      <td>19728.0</td>\n",
       "      <td>2010</td>\n",
       "      <td>0</td>\n",
       "      <td>POLYGON ((-4.95956 36.57968, -4.95771 36.57969...</td>\n",
       "      <td>la concepcion</td>\n",
       "      <td>96ff0189-7b28-42a2-a772-0487d493af7e</td>\n",
       "    </tr>\n",
       "    <tr>\n",
       "      <th>190</th>\n",
       "      <td>191.0</td>\n",
       "      <td>Embalse de Guadalteba</td>\n",
       "      <td>S29</td>\n",
       "      <td>n/e</td>\n",
       "      <td>4.01e+06</td>\n",
       "      <td>None</td>\n",
       "      <td>Mapa Topográfico de Andalucía 1:10000. Restitu...</td>\n",
       "      <td>7.63e+06</td>\n",
       "      <td>52830.0</td>\n",
       "      <td>2010</td>\n",
       "      <td>0</td>\n",
       "      <td>POLYGON ((-4.80203 36.94383, -4.79938 36.94079...</td>\n",
       "      <td>guadalteba</td>\n",
       "      <td>9fc5281c-13fc-41e3-8ee8-1a68f1a61244</td>\n",
       "    </tr>\n",
       "    <tr>\n",
       "      <th>195</th>\n",
       "      <td>196.0</td>\n",
       "      <td>Embalse de la Viñuela</td>\n",
       "      <td>S37</td>\n",
       "      <td>n/e</td>\n",
       "      <td>4.01e+06</td>\n",
       "      <td>None</td>\n",
       "      <td>Mapa Topográfico de Andalucía 1:10000. Orto 2006</td>\n",
       "      <td>3.37e+06</td>\n",
       "      <td>20598.0</td>\n",
       "      <td>2010</td>\n",
       "      <td>0</td>\n",
       "      <td>POLYGON ((-4.17591 36.89975, -4.17475 36.89514...</td>\n",
       "      <td>la vinnuela</td>\n",
       "      <td>0650e713-5ed4-4b9e-87a6-28b0dd4bf3ef</td>\n",
       "    </tr>\n",
       "    <tr>\n",
       "      <th>225</th>\n",
       "      <td>226.0</td>\n",
       "      <td>Embalse de Guadalhorce</td>\n",
       "      <td>S30</td>\n",
       "      <td>n/e</td>\n",
       "      <td>4.01e+06</td>\n",
       "      <td>None</td>\n",
       "      <td>Mapa Topográfico de Andalucía 1:10000. Restitu...</td>\n",
       "      <td>6.98e+06</td>\n",
       "      <td>45492.0</td>\n",
       "      <td>2010</td>\n",
       "      <td>0</td>\n",
       "      <td>POLYGON ((-4.80070 36.94314, -4.80229 36.94449...</td>\n",
       "      <td>guadalhorce</td>\n",
       "      <td>7d2e0c20-9d88-424d-9fe0-c9c67d32f436</td>\n",
       "    </tr>\n",
       "  </tbody>\n",
       "</table>\n",
       "</div>"
      ],
      "text/plain": [
       "     cod_emb                            nombre cod_est cod_roea  idemb_cbrh  \\\n",
       "7        8.0  Embalse del Conde de Guadalhorce     S31      n/e    4.01e+06   \n",
       "162    163.0          Embalse de la Concepción     S16      n/e    4.01e+06   \n",
       "190    191.0             Embalse de Guadalteba     S29      n/e    4.01e+06   \n",
       "195    196.0             Embalse de la Viñuela     S37      n/e    4.01e+06   \n",
       "225    226.0            Embalse de Guadalhorce     S30      n/e    4.01e+06   \n",
       "\n",
       "    cod_massup                                         fuente_nom      area  \\\n",
       "7         None  Mapa Topográfico de Andalucía 1:10000. Restitu...  4.70e+06   \n",
       "162       None  Mapa Topográfico de Andalucía 1:10000. Restitu...  1.91e+06   \n",
       "190       None  Mapa Topográfico de Andalucía 1:10000. Restitu...  7.63e+06   \n",
       "195       None   Mapa Topográfico de Andalucía 1:10000. Orto 2006  3.37e+06   \n",
       "225       None  Mapa Topográfico de Andalucía 1:10000. Restitu...  6.98e+06   \n",
       "\n",
       "     perimetro  fecha_alta  fecha_baja  \\\n",
       "7      30445.0        2010           0   \n",
       "162    19728.0        2010           0   \n",
       "190    52830.0        2010           0   \n",
       "195    20598.0        2010           0   \n",
       "225    45492.0        2010           0   \n",
       "\n",
       "                                              geometry             name_data  \\\n",
       "7    POLYGON ((-4.83942 36.89797, -4.83882 36.89801...  conde de guadalhorce   \n",
       "162  POLYGON ((-4.95956 36.57968, -4.95771 36.57969...         la concepcion   \n",
       "190  POLYGON ((-4.80203 36.94383, -4.79938 36.94079...            guadalteba   \n",
       "195  POLYGON ((-4.17591 36.89975, -4.17475 36.89514...           la vinnuela   \n",
       "225  POLYGON ((-4.80070 36.94314, -4.80229 36.94449...           guadalhorce   \n",
       "\n",
       "                           reservoir_uuid  \n",
       "7    6dd64514-af0e-4a72-8a64-ea8fc694e9d9  \n",
       "162  96ff0189-7b28-42a2-a772-0487d493af7e  \n",
       "190  9fc5281c-13fc-41e3-8ee8-1a68f1a61244  \n",
       "195  0650e713-5ed4-4b9e-87a6-28b0dd4bf3ef  \n",
       "225  7d2e0c20-9d88-424d-9fe0-c9c67d32f436  "
      ]
     },
     "execution_count": 20,
     "metadata": {},
     "output_type": "execute_result"
    }
   ],
   "source": [
    "filename = f'{p.cd_water}/app/frontend/src/data/reservoirs.json'\n",
    "gdf = gdf_raw[gdf_raw.nombre.isin(df_matches['name_geo_full'])].copy()\n",
    "gdf['name_data'] = [dict_matches[n] for n in gdf.nombre]\n",
    "gdf['reservoir_uuid'] = [reservoirs_dict.get(name) for name in gdf['name_data']]\n",
    "gdf.geometry = gdf.geometry.simplify(100)\n",
    "gdf = gdf.to_crs(\"EPSG:4326\")\n",
    "gdf = gdf[gdf.reservoir_uuid.notnull()].copy()\n",
    "gdf"
   ]
  },
  {
   "cell_type": "code",
   "execution_count": 21,
   "metadata": {},
   "outputs": [
    {
     "ename": "DriverError",
     "evalue": "Failed to create GeoJSON datasource: /Users/cg/Dropbox/code/Python/water/app/frontend/src/data/reservoirs.json: /Users/cg/Dropbox/code/Python/water/app/frontend/src/data/reservoirs.json: No such file or directory",
     "output_type": "error",
     "traceback": [
      "\u001b[0;31m---------------------------------------------------------------------------\u001b[0m",
      "\u001b[0;31mCPLE_OpenFailedError\u001b[0m                      Traceback (most recent call last)",
      "File \u001b[0;32mfiona/ogrext.pyx:175\u001b[0m, in \u001b[0;36mfiona.ogrext.gdal_create\u001b[0;34m()\u001b[0m\n",
      "File \u001b[0;32mfiona/_err.pyx:291\u001b[0m, in \u001b[0;36mfiona._err.exc_wrap_pointer\u001b[0;34m()\u001b[0m\n",
      "\u001b[0;31mCPLE_OpenFailedError\u001b[0m: Failed to create GeoJSON datasource: /Users/cg/Dropbox/code/Python/water/app/frontend/src/data/reservoirs.json: /Users/cg/Dropbox/code/Python/water/app/frontend/src/data/reservoirs.json: No such file or directory",
      "\nDuring handling of the above exception, another exception occurred:\n",
      "\u001b[0;31mDriverError\u001b[0m                               Traceback (most recent call last)",
      "Cell \u001b[0;32mIn[21], line 1\u001b[0m\n\u001b[0;32m----> 1\u001b[0m \u001b[43mgdf\u001b[49m\u001b[38;5;241;43m.\u001b[39;49m\u001b[43mto_file\u001b[49m\u001b[43m(\u001b[49m\u001b[43mfilename\u001b[49m\u001b[43m,\u001b[49m\u001b[43m \u001b[49m\u001b[43mdriver\u001b[49m\u001b[38;5;241;43m=\u001b[39;49m\u001b[38;5;124;43m'\u001b[39;49m\u001b[38;5;124;43mGeoJSON\u001b[39;49m\u001b[38;5;124;43m'\u001b[39;49m\u001b[43m)\u001b[49m\n\u001b[1;32m      2\u001b[0m gdf\u001b[38;5;241m.\u001b[39miloc[\u001b[38;5;241m0\u001b[39m]\n",
      "File \u001b[0;32m~/Dropbox/code/Python/water/.venv/lib/python3.10/site-packages/geopandas/geodataframe.py:1246\u001b[0m, in \u001b[0;36mGeoDataFrame.to_file\u001b[0;34m(self, filename, driver, schema, index, **kwargs)\u001b[0m\n\u001b[1;32m   1155\u001b[0m \u001b[38;5;250m\u001b[39m\u001b[38;5;124;03m\"\"\"Write the ``GeoDataFrame`` to a file.\u001b[39;00m\n\u001b[1;32m   1156\u001b[0m \n\u001b[1;32m   1157\u001b[0m \u001b[38;5;124;03mBy default, an ESRI shapefile is written, but any OGR data source\u001b[39;00m\n\u001b[0;32m   (...)\u001b[0m\n\u001b[1;32m   1242\u001b[0m \n\u001b[1;32m   1243\u001b[0m \u001b[38;5;124;03m\"\"\"\u001b[39;00m\n\u001b[1;32m   1244\u001b[0m \u001b[38;5;28;01mfrom\u001b[39;00m \u001b[38;5;21;01mgeopandas\u001b[39;00m\u001b[38;5;21;01m.\u001b[39;00m\u001b[38;5;21;01mio\u001b[39;00m\u001b[38;5;21;01m.\u001b[39;00m\u001b[38;5;21;01mfile\u001b[39;00m \u001b[38;5;28;01mimport\u001b[39;00m _to_file\n\u001b[0;32m-> 1246\u001b[0m \u001b[43m_to_file\u001b[49m\u001b[43m(\u001b[49m\u001b[38;5;28;43mself\u001b[39;49m\u001b[43m,\u001b[49m\u001b[43m \u001b[49m\u001b[43mfilename\u001b[49m\u001b[43m,\u001b[49m\u001b[43m \u001b[49m\u001b[43mdriver\u001b[49m\u001b[43m,\u001b[49m\u001b[43m \u001b[49m\u001b[43mschema\u001b[49m\u001b[43m,\u001b[49m\u001b[43m \u001b[49m\u001b[43mindex\u001b[49m\u001b[43m,\u001b[49m\u001b[43m \u001b[49m\u001b[38;5;241;43m*\u001b[39;49m\u001b[38;5;241;43m*\u001b[39;49m\u001b[43mkwargs\u001b[49m\u001b[43m)\u001b[49m\n",
      "File \u001b[0;32m~/Dropbox/code/Python/water/.venv/lib/python3.10/site-packages/geopandas/io/file.py:633\u001b[0m, in \u001b[0;36m_to_file\u001b[0;34m(df, filename, driver, schema, index, mode, crs, engine, **kwargs)\u001b[0m\n\u001b[1;32m    630\u001b[0m     \u001b[38;5;28;01mraise\u001b[39;00m \u001b[38;5;167;01mValueError\u001b[39;00m(\u001b[38;5;124mf\u001b[39m\u001b[38;5;124m\"\u001b[39m\u001b[38;5;124m'\u001b[39m\u001b[38;5;124mmode\u001b[39m\u001b[38;5;124m'\u001b[39m\u001b[38;5;124m should be one of \u001b[39m\u001b[38;5;124m'\u001b[39m\u001b[38;5;124mw\u001b[39m\u001b[38;5;124m'\u001b[39m\u001b[38;5;124m or \u001b[39m\u001b[38;5;124m'\u001b[39m\u001b[38;5;124ma\u001b[39m\u001b[38;5;124m'\u001b[39m\u001b[38;5;124m, got \u001b[39m\u001b[38;5;124m'\u001b[39m\u001b[38;5;132;01m{\u001b[39;00mmode\u001b[38;5;132;01m}\u001b[39;00m\u001b[38;5;124m'\u001b[39m\u001b[38;5;124m instead\u001b[39m\u001b[38;5;124m\"\u001b[39m)\n\u001b[1;32m    632\u001b[0m \u001b[38;5;28;01mif\u001b[39;00m engine \u001b[38;5;241m==\u001b[39m \u001b[38;5;124m\"\u001b[39m\u001b[38;5;124mfiona\u001b[39m\u001b[38;5;124m\"\u001b[39m:\n\u001b[0;32m--> 633\u001b[0m     \u001b[43m_to_file_fiona\u001b[49m\u001b[43m(\u001b[49m\u001b[43mdf\u001b[49m\u001b[43m,\u001b[49m\u001b[43m \u001b[49m\u001b[43mfilename\u001b[49m\u001b[43m,\u001b[49m\u001b[43m \u001b[49m\u001b[43mdriver\u001b[49m\u001b[43m,\u001b[49m\u001b[43m \u001b[49m\u001b[43mschema\u001b[49m\u001b[43m,\u001b[49m\u001b[43m \u001b[49m\u001b[43mcrs\u001b[49m\u001b[43m,\u001b[49m\u001b[43m \u001b[49m\u001b[43mmode\u001b[49m\u001b[43m,\u001b[49m\u001b[43m \u001b[49m\u001b[38;5;241;43m*\u001b[39;49m\u001b[38;5;241;43m*\u001b[39;49m\u001b[43mkwargs\u001b[49m\u001b[43m)\u001b[49m\n\u001b[1;32m    634\u001b[0m \u001b[38;5;28;01melif\u001b[39;00m engine \u001b[38;5;241m==\u001b[39m \u001b[38;5;124m\"\u001b[39m\u001b[38;5;124mpyogrio\u001b[39m\u001b[38;5;124m\"\u001b[39m:\n\u001b[1;32m    635\u001b[0m     _to_file_pyogrio(df, filename, driver, schema, crs, mode, \u001b[38;5;241m*\u001b[39m\u001b[38;5;241m*\u001b[39mkwargs)\n",
      "File \u001b[0;32m~/Dropbox/code/Python/water/.venv/lib/python3.10/site-packages/geopandas/io/file.py:661\u001b[0m, in \u001b[0;36m_to_file_fiona\u001b[0;34m(df, filename, driver, schema, crs, mode, **kwargs)\u001b[0m\n\u001b[1;32m    659\u001b[0m \u001b[38;5;28;01melif\u001b[39;00m crs:\n\u001b[1;32m    660\u001b[0m     crs_wkt \u001b[38;5;241m=\u001b[39m crs\u001b[38;5;241m.\u001b[39mto_wkt(\u001b[38;5;124m\"\u001b[39m\u001b[38;5;124mWKT1_GDAL\u001b[39m\u001b[38;5;124m\"\u001b[39m)\n\u001b[0;32m--> 661\u001b[0m \u001b[38;5;28;01mwith\u001b[39;00m \u001b[43mfiona\u001b[49m\u001b[38;5;241;43m.\u001b[39;49m\u001b[43mopen\u001b[49m\u001b[43m(\u001b[49m\n\u001b[1;32m    662\u001b[0m \u001b[43m    \u001b[49m\u001b[43mfilename\u001b[49m\u001b[43m,\u001b[49m\u001b[43m \u001b[49m\u001b[43mmode\u001b[49m\u001b[38;5;241;43m=\u001b[39;49m\u001b[43mmode\u001b[49m\u001b[43m,\u001b[49m\u001b[43m \u001b[49m\u001b[43mdriver\u001b[49m\u001b[38;5;241;43m=\u001b[39;49m\u001b[43mdriver\u001b[49m\u001b[43m,\u001b[49m\u001b[43m \u001b[49m\u001b[43mcrs_wkt\u001b[49m\u001b[38;5;241;43m=\u001b[39;49m\u001b[43mcrs_wkt\u001b[49m\u001b[43m,\u001b[49m\u001b[43m \u001b[49m\u001b[43mschema\u001b[49m\u001b[38;5;241;43m=\u001b[39;49m\u001b[43mschema\u001b[49m\u001b[43m,\u001b[49m\u001b[43m \u001b[49m\u001b[38;5;241;43m*\u001b[39;49m\u001b[38;5;241;43m*\u001b[39;49m\u001b[43mkwargs\u001b[49m\n\u001b[1;32m    663\u001b[0m \u001b[43m\u001b[49m\u001b[43m)\u001b[49m \u001b[38;5;28;01mas\u001b[39;00m colxn:\n\u001b[1;32m    664\u001b[0m     colxn\u001b[38;5;241m.\u001b[39mwriterecords(df\u001b[38;5;241m.\u001b[39miterfeatures())\n",
      "File \u001b[0;32m~/Dropbox/code/Python/water/.venv/lib/python3.10/site-packages/fiona/env.py:457\u001b[0m, in \u001b[0;36mensure_env_with_credentials.<locals>.wrapper\u001b[0;34m(*args, **kwds)\u001b[0m\n\u001b[1;32m    454\u001b[0m     session \u001b[38;5;241m=\u001b[39m DummySession()\n\u001b[1;32m    456\u001b[0m \u001b[38;5;28;01mwith\u001b[39;00m env_ctor(session\u001b[38;5;241m=\u001b[39msession):\n\u001b[0;32m--> 457\u001b[0m     \u001b[38;5;28;01mreturn\u001b[39;00m \u001b[43mf\u001b[49m\u001b[43m(\u001b[49m\u001b[38;5;241;43m*\u001b[39;49m\u001b[43margs\u001b[49m\u001b[43m,\u001b[49m\u001b[43m \u001b[49m\u001b[38;5;241;43m*\u001b[39;49m\u001b[38;5;241;43m*\u001b[39;49m\u001b[43mkwds\u001b[49m\u001b[43m)\u001b[49m\n",
      "File \u001b[0;32m~/Dropbox/code/Python/water/.venv/lib/python3.10/site-packages/fiona/__init__.py:303\u001b[0m, in \u001b[0;36mopen\u001b[0;34m(fp, mode, driver, schema, crs, encoding, layer, vfs, enabled_drivers, crs_wkt, allow_unsupported_drivers, **kwargs)\u001b[0m\n\u001b[1;32m    292\u001b[0m     colxn \u001b[38;5;241m=\u001b[39m Collection(\n\u001b[1;32m    293\u001b[0m         path,\n\u001b[1;32m    294\u001b[0m         mode,\n\u001b[0;32m   (...)\u001b[0m\n\u001b[1;32m    300\u001b[0m         \u001b[38;5;241m*\u001b[39m\u001b[38;5;241m*\u001b[39mkwargs\n\u001b[1;32m    301\u001b[0m     )\n\u001b[1;32m    302\u001b[0m \u001b[38;5;28;01melif\u001b[39;00m mode \u001b[38;5;241m==\u001b[39m \u001b[38;5;124m\"\u001b[39m\u001b[38;5;124mw\u001b[39m\u001b[38;5;124m\"\u001b[39m:\n\u001b[0;32m--> 303\u001b[0m     colxn \u001b[38;5;241m=\u001b[39m \u001b[43mCollection\u001b[49m\u001b[43m(\u001b[49m\n\u001b[1;32m    304\u001b[0m \u001b[43m        \u001b[49m\u001b[43mpath\u001b[49m\u001b[43m,\u001b[49m\n\u001b[1;32m    305\u001b[0m \u001b[43m        \u001b[49m\u001b[43mmode\u001b[49m\u001b[43m,\u001b[49m\n\u001b[1;32m    306\u001b[0m \u001b[43m        \u001b[49m\u001b[43mcrs\u001b[49m\u001b[38;5;241;43m=\u001b[39;49m\u001b[43mcrs\u001b[49m\u001b[43m,\u001b[49m\n\u001b[1;32m    307\u001b[0m \u001b[43m        \u001b[49m\u001b[43mdriver\u001b[49m\u001b[38;5;241;43m=\u001b[39;49m\u001b[43mdriver\u001b[49m\u001b[43m,\u001b[49m\n\u001b[1;32m    308\u001b[0m \u001b[43m        \u001b[49m\u001b[43mschema\u001b[49m\u001b[38;5;241;43m=\u001b[39;49m\u001b[43mschema\u001b[49m\u001b[43m,\u001b[49m\n\u001b[1;32m    309\u001b[0m \u001b[43m        \u001b[49m\u001b[43mencoding\u001b[49m\u001b[38;5;241;43m=\u001b[39;49m\u001b[43mencoding\u001b[49m\u001b[43m,\u001b[49m\n\u001b[1;32m    310\u001b[0m \u001b[43m        \u001b[49m\u001b[43mlayer\u001b[49m\u001b[38;5;241;43m=\u001b[39;49m\u001b[43mlayer\u001b[49m\u001b[43m,\u001b[49m\n\u001b[1;32m    311\u001b[0m \u001b[43m        \u001b[49m\u001b[43menabled_drivers\u001b[49m\u001b[38;5;241;43m=\u001b[39;49m\u001b[43menabled_drivers\u001b[49m\u001b[43m,\u001b[49m\n\u001b[1;32m    312\u001b[0m \u001b[43m        \u001b[49m\u001b[43mcrs_wkt\u001b[49m\u001b[38;5;241;43m=\u001b[39;49m\u001b[43mcrs_wkt\u001b[49m\u001b[43m,\u001b[49m\n\u001b[1;32m    313\u001b[0m \u001b[43m        \u001b[49m\u001b[43mallow_unsupported_drivers\u001b[49m\u001b[38;5;241;43m=\u001b[39;49m\u001b[43mallow_unsupported_drivers\u001b[49m\u001b[43m,\u001b[49m\n\u001b[1;32m    314\u001b[0m \u001b[43m        \u001b[49m\u001b[38;5;241;43m*\u001b[39;49m\u001b[38;5;241;43m*\u001b[39;49m\u001b[43mkwargs\u001b[49m\n\u001b[1;32m    315\u001b[0m \u001b[43m    \u001b[49m\u001b[43m)\u001b[49m\n\u001b[1;32m    316\u001b[0m \u001b[38;5;28;01melse\u001b[39;00m:\n\u001b[1;32m    317\u001b[0m     \u001b[38;5;28;01mraise\u001b[39;00m \u001b[38;5;167;01mValueError\u001b[39;00m(\u001b[38;5;124m\"\u001b[39m\u001b[38;5;124mmode string must be one of \u001b[39m\u001b[38;5;124m{\u001b[39m\u001b[38;5;124m'\u001b[39m\u001b[38;5;124mr\u001b[39m\u001b[38;5;124m'\u001b[39m\u001b[38;5;124m, \u001b[39m\u001b[38;5;124m'\u001b[39m\u001b[38;5;124mw\u001b[39m\u001b[38;5;124m'\u001b[39m\u001b[38;5;124m, \u001b[39m\u001b[38;5;124m'\u001b[39m\u001b[38;5;124ma\u001b[39m\u001b[38;5;124m'\u001b[39m\u001b[38;5;124m}\u001b[39m\u001b[38;5;124m\"\u001b[39m)\n",
      "File \u001b[0;32m~/Dropbox/code/Python/water/.venv/lib/python3.10/site-packages/fiona/collection.py:246\u001b[0m, in \u001b[0;36mCollection.__init__\u001b[0;34m(self, path, mode, driver, schema, crs, encoding, layer, vsi, archive, enabled_drivers, crs_wkt, ignore_fields, ignore_geometry, include_fields, wkt_version, allow_unsupported_drivers, **kwargs)\u001b[0m\n\u001b[1;32m    244\u001b[0m     \u001b[38;5;28;01melif\u001b[39;00m \u001b[38;5;28mself\u001b[39m\u001b[38;5;241m.\u001b[39mmode \u001b[38;5;129;01min\u001b[39;00m (\u001b[38;5;124m\"\u001b[39m\u001b[38;5;124ma\u001b[39m\u001b[38;5;124m\"\u001b[39m, \u001b[38;5;124m\"\u001b[39m\u001b[38;5;124mw\u001b[39m\u001b[38;5;124m\"\u001b[39m):\n\u001b[1;32m    245\u001b[0m         \u001b[38;5;28mself\u001b[39m\u001b[38;5;241m.\u001b[39msession \u001b[38;5;241m=\u001b[39m WritingSession()\n\u001b[0;32m--> 246\u001b[0m         \u001b[38;5;28;43mself\u001b[39;49m\u001b[38;5;241;43m.\u001b[39;49m\u001b[43msession\u001b[49m\u001b[38;5;241;43m.\u001b[39;49m\u001b[43mstart\u001b[49m\u001b[43m(\u001b[49m\u001b[38;5;28;43mself\u001b[39;49m\u001b[43m,\u001b[49m\u001b[43m \u001b[49m\u001b[38;5;241;43m*\u001b[39;49m\u001b[38;5;241;43m*\u001b[39;49m\u001b[43mkwargs\u001b[49m\u001b[43m)\u001b[49m\n\u001b[1;32m    247\u001b[0m \u001b[38;5;28;01mexcept\u001b[39;00m \u001b[38;5;167;01mOSError\u001b[39;00m:\n\u001b[1;32m    248\u001b[0m     \u001b[38;5;28mself\u001b[39m\u001b[38;5;241m.\u001b[39msession \u001b[38;5;241m=\u001b[39m \u001b[38;5;28;01mNone\u001b[39;00m\n",
      "File \u001b[0;32mfiona/ogrext.pyx:1110\u001b[0m, in \u001b[0;36mfiona.ogrext.WritingSession.start\u001b[0;34m()\u001b[0m\n",
      "File \u001b[0;32mfiona/ogrext.pyx:1111\u001b[0m, in \u001b[0;36mfiona.ogrext.WritingSession.start\u001b[0;34m()\u001b[0m\n",
      "File \u001b[0;32mfiona/ogrext.pyx:179\u001b[0m, in \u001b[0;36mfiona.ogrext.gdal_create\u001b[0;34m()\u001b[0m\n",
      "\u001b[0;31mDriverError\u001b[0m: Failed to create GeoJSON datasource: /Users/cg/Dropbox/code/Python/water/app/frontend/src/data/reservoirs.json: /Users/cg/Dropbox/code/Python/water/app/frontend/src/data/reservoirs.json: No such file or directory"
     ]
    }
   ],
   "source": [
    "gdf.to_file(filename, driver='GeoJSON')\n",
    "gdf.iloc[0]"
   ]
  },
  {
   "cell_type": "code",
   "execution_count": 22,
   "metadata": {},
   "outputs": [
    {
     "data": {
      "text/plain": [
       "'/Users/cg/Dropbox/code/Python/water/app/frontend/src/data/reservoirs.json'"
      ]
     },
     "execution_count": 22,
     "metadata": {},
     "output_type": "execute_result"
    }
   ],
   "source": [
    "filename"
   ]
  },
  {
   "cell_type": "code",
   "execution_count": null,
   "metadata": {},
   "outputs": [],
   "source": []
  }
 ],
 "metadata": {
  "kernelspec": {
   "display_name": "Python 3 (ipykernel)",
   "language": "python",
   "name": "python3"
  },
  "language_info": {
   "codemirror_mode": {
    "name": "ipython",
    "version": 3
   },
   "file_extension": ".py",
   "mimetype": "text/x-python",
   "name": "python",
   "nbconvert_exporter": "python",
   "pygments_lexer": "ipython3",
   "version": "3.10.16"
  }
 },
 "nbformat": 4,
 "nbformat_minor": 2
}
