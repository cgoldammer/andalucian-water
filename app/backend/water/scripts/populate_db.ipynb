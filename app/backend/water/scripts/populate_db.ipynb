{
 "cells": [
  {
   "cell_type": "code",
   "execution_count": 1,
   "metadata": {},
   "outputs": [
    {
     "data": {
      "text/plain": [
       "{'uuid': '79ccacdc-a44b-482f-9490-69df36d4d787', 'date': '2024-01-01', 'volume': 2.18, 'reservoir': {'uuid': 'd6cc293e-9179-4d24-9d55-e987122032dc', 'name': 'almodovar', 'capacity': 5.7}}"
      ]
     },
     "execution_count": 1,
     "metadata": {},
     "output_type": "execute_result"
    }
   ],
   "source": [
    "from PIL import Image\n",
    "import requests\n",
    "import numpy as np\n",
    "from PIL import Image\n",
    "\n",
    "import pandas as pd \n",
    "import geopandas as gpd\n",
    "# import osmnx as ox\n",
    "# import networkx as nx\n",
    "\n",
    "import pyproj\n",
    "from shapely.ops import transform\n",
    "\n",
    "import shapely\n",
    "from shapely import Point\n",
    "\n",
    "# import boto3\n",
    "import os\n",
    "import django\n",
    "\n",
    "pd.set_option('display.precision', 2)\n",
    "\n",
    "os.environ.setdefault(\"DJANGO_SETTINGS_MODULE\", \"water.settings\")\n",
    "os.environ[\"DJANGO_ALLOW_ASYNC_UNSAFE\"] = \"true\"\n",
    "django.setup()\n",
    "\n",
    "from water.models import ReservoirState, Reservoir, ReservoirStateSerializer\n",
    "\n",
    "rs = ReservoirState.objects.all()[0]\n",
    "ReservoirStateSerializer(rs).data"
   ]
  },
  {
   "cell_type": "code",
   "execution_count": 2,
   "metadata": {},
   "outputs": [
    {
     "ename": "AssertionError",
     "evalue": "The field 'reservoir_reservoirstate' was declared on serializer ReservoirStateSerializer, but has not been included in the 'fields' option.",
     "output_type": "error",
     "traceback": [
      "\u001b[0;31m---------------------------------------------------------------------------\u001b[0m",
      "\u001b[0;31mAssertionError\u001b[0m                            Traceback (most recent call last)",
      "Cell \u001b[0;32mIn[2], line 2\u001b[0m\n\u001b[1;32m      1\u001b[0m rs \u001b[38;5;241m=\u001b[39m ReservoirState\u001b[38;5;241m.\u001b[39mobjects\u001b[38;5;241m.\u001b[39mall()[\u001b[38;5;241m0\u001b[39m]\n\u001b[0;32m----> 2\u001b[0m \u001b[43mReservoirStateSerializer\u001b[49m\u001b[43m(\u001b[49m\u001b[43mrs\u001b[49m\u001b[43m)\u001b[49m\u001b[38;5;241;43m.\u001b[39;49m\u001b[43mdata\u001b[49m\n",
      "File \u001b[0;32m~/Dropbox/code/Python/water/.venv/lib/python3.10/site-packages/rest_framework/serializers.py:571\u001b[0m, in \u001b[0;36mSerializer.data\u001b[0;34m(self)\u001b[0m\n\u001b[1;32m    569\u001b[0m \u001b[38;5;129m@property\u001b[39m\n\u001b[1;32m    570\u001b[0m \u001b[38;5;28;01mdef\u001b[39;00m \u001b[38;5;21mdata\u001b[39m(\u001b[38;5;28mself\u001b[39m):\n\u001b[0;32m--> 571\u001b[0m     ret \u001b[38;5;241m=\u001b[39m \u001b[38;5;28;43msuper\u001b[39;49m\u001b[43m(\u001b[49m\u001b[43m)\u001b[49m\u001b[38;5;241;43m.\u001b[39;49m\u001b[43mdata\u001b[49m\n\u001b[1;32m    572\u001b[0m     \u001b[38;5;28;01mreturn\u001b[39;00m ReturnDict(ret, serializer\u001b[38;5;241m=\u001b[39m\u001b[38;5;28mself\u001b[39m)\n",
      "File \u001b[0;32m~/Dropbox/code/Python/water/.venv/lib/python3.10/site-packages/rest_framework/serializers.py:249\u001b[0m, in \u001b[0;36mBaseSerializer.data\u001b[0;34m(self)\u001b[0m\n\u001b[1;32m    247\u001b[0m \u001b[38;5;28;01mif\u001b[39;00m \u001b[38;5;129;01mnot\u001b[39;00m \u001b[38;5;28mhasattr\u001b[39m(\u001b[38;5;28mself\u001b[39m, \u001b[38;5;124m'\u001b[39m\u001b[38;5;124m_data\u001b[39m\u001b[38;5;124m'\u001b[39m):\n\u001b[1;32m    248\u001b[0m     \u001b[38;5;28;01mif\u001b[39;00m \u001b[38;5;28mself\u001b[39m\u001b[38;5;241m.\u001b[39minstance \u001b[38;5;129;01mis\u001b[39;00m \u001b[38;5;129;01mnot\u001b[39;00m \u001b[38;5;28;01mNone\u001b[39;00m \u001b[38;5;129;01mand\u001b[39;00m \u001b[38;5;129;01mnot\u001b[39;00m \u001b[38;5;28mgetattr\u001b[39m(\u001b[38;5;28mself\u001b[39m, \u001b[38;5;124m'\u001b[39m\u001b[38;5;124m_errors\u001b[39m\u001b[38;5;124m'\u001b[39m, \u001b[38;5;28;01mNone\u001b[39;00m):\n\u001b[0;32m--> 249\u001b[0m         \u001b[38;5;28mself\u001b[39m\u001b[38;5;241m.\u001b[39m_data \u001b[38;5;241m=\u001b[39m \u001b[38;5;28;43mself\u001b[39;49m\u001b[38;5;241;43m.\u001b[39;49m\u001b[43mto_representation\u001b[49m\u001b[43m(\u001b[49m\u001b[38;5;28;43mself\u001b[39;49m\u001b[38;5;241;43m.\u001b[39;49m\u001b[43minstance\u001b[49m\u001b[43m)\u001b[49m\n\u001b[1;32m    250\u001b[0m     \u001b[38;5;28;01melif\u001b[39;00m \u001b[38;5;28mhasattr\u001b[39m(\u001b[38;5;28mself\u001b[39m, \u001b[38;5;124m'\u001b[39m\u001b[38;5;124m_validated_data\u001b[39m\u001b[38;5;124m'\u001b[39m) \u001b[38;5;129;01mand\u001b[39;00m \u001b[38;5;129;01mnot\u001b[39;00m \u001b[38;5;28mgetattr\u001b[39m(\u001b[38;5;28mself\u001b[39m, \u001b[38;5;124m'\u001b[39m\u001b[38;5;124m_errors\u001b[39m\u001b[38;5;124m'\u001b[39m, \u001b[38;5;28;01mNone\u001b[39;00m):\n\u001b[1;32m    251\u001b[0m         \u001b[38;5;28mself\u001b[39m\u001b[38;5;241m.\u001b[39m_data \u001b[38;5;241m=\u001b[39m \u001b[38;5;28mself\u001b[39m\u001b[38;5;241m.\u001b[39mto_representation(\u001b[38;5;28mself\u001b[39m\u001b[38;5;241m.\u001b[39mvalidated_data)\n",
      "File \u001b[0;32m~/Dropbox/code/Python/water/.venv/lib/python3.10/site-packages/rest_framework/serializers.py:523\u001b[0m, in \u001b[0;36mSerializer.to_representation\u001b[0;34m(self, instance)\u001b[0m\n\u001b[1;32m    520\u001b[0m ret \u001b[38;5;241m=\u001b[39m {}\n\u001b[1;32m    521\u001b[0m fields \u001b[38;5;241m=\u001b[39m \u001b[38;5;28mself\u001b[39m\u001b[38;5;241m.\u001b[39m_readable_fields\n\u001b[0;32m--> 523\u001b[0m \u001b[38;5;28;01mfor\u001b[39;00m field \u001b[38;5;129;01min\u001b[39;00m fields:\n\u001b[1;32m    524\u001b[0m     \u001b[38;5;28;01mtry\u001b[39;00m:\n\u001b[1;32m    525\u001b[0m         attribute \u001b[38;5;241m=\u001b[39m field\u001b[38;5;241m.\u001b[39mget_attribute(instance)\n",
      "File \u001b[0;32m~/Dropbox/code/Python/water/.venv/lib/python3.10/site-packages/rest_framework/serializers.py:384\u001b[0m, in \u001b[0;36mSerializer._readable_fields\u001b[0;34m(self)\u001b[0m\n\u001b[1;32m    382\u001b[0m \u001b[38;5;129m@property\u001b[39m\n\u001b[1;32m    383\u001b[0m \u001b[38;5;28;01mdef\u001b[39;00m \u001b[38;5;21m_readable_fields\u001b[39m(\u001b[38;5;28mself\u001b[39m):\n\u001b[0;32m--> 384\u001b[0m     \u001b[38;5;28;01mfor\u001b[39;00m field \u001b[38;5;129;01min\u001b[39;00m \u001b[38;5;28;43mself\u001b[39;49m\u001b[38;5;241;43m.\u001b[39;49m\u001b[43mfields\u001b[49m\u001b[38;5;241m.\u001b[39mvalues():\n\u001b[1;32m    385\u001b[0m         \u001b[38;5;28;01mif\u001b[39;00m \u001b[38;5;129;01mnot\u001b[39;00m field\u001b[38;5;241m.\u001b[39mwrite_only:\n\u001b[1;32m    386\u001b[0m             \u001b[38;5;28;01myield\u001b[39;00m field\n",
      "File \u001b[0;32m~/Dropbox/code/Python/water/.venv/lib/python3.10/site-packages/django/utils/functional.py:47\u001b[0m, in \u001b[0;36mcached_property.__get__\u001b[0;34m(self, instance, cls)\u001b[0m\n\u001b[1;32m     45\u001b[0m \u001b[38;5;28;01mif\u001b[39;00m instance \u001b[38;5;129;01mis\u001b[39;00m \u001b[38;5;28;01mNone\u001b[39;00m:\n\u001b[1;32m     46\u001b[0m     \u001b[38;5;28;01mreturn\u001b[39;00m \u001b[38;5;28mself\u001b[39m\n\u001b[0;32m---> 47\u001b[0m res \u001b[38;5;241m=\u001b[39m instance\u001b[38;5;241m.\u001b[39m\u001b[38;5;18m__dict__\u001b[39m[\u001b[38;5;28mself\u001b[39m\u001b[38;5;241m.\u001b[39mname] \u001b[38;5;241m=\u001b[39m \u001b[38;5;28;43mself\u001b[39;49m\u001b[38;5;241;43m.\u001b[39;49m\u001b[43mfunc\u001b[49m\u001b[43m(\u001b[49m\u001b[43minstance\u001b[49m\u001b[43m)\u001b[49m\n\u001b[1;32m     48\u001b[0m \u001b[38;5;28;01mreturn\u001b[39;00m res\n",
      "File \u001b[0;32m~/Dropbox/code/Python/water/.venv/lib/python3.10/site-packages/rest_framework/serializers.py:372\u001b[0m, in \u001b[0;36mSerializer.fields\u001b[0;34m(self)\u001b[0m\n\u001b[1;32m    368\u001b[0m \u001b[38;5;66;03m# `fields` is evaluated lazily. We do this to ensure that we don't\u001b[39;00m\n\u001b[1;32m    369\u001b[0m \u001b[38;5;66;03m# have issues importing modules that use ModelSerializers as fields,\u001b[39;00m\n\u001b[1;32m    370\u001b[0m \u001b[38;5;66;03m# even if Django's app-loading stage has not yet run.\u001b[39;00m\n\u001b[1;32m    371\u001b[0m fields \u001b[38;5;241m=\u001b[39m BindingDict(\u001b[38;5;28mself\u001b[39m)\n\u001b[0;32m--> 372\u001b[0m \u001b[38;5;28;01mfor\u001b[39;00m key, value \u001b[38;5;129;01min\u001b[39;00m \u001b[38;5;28;43mself\u001b[39;49m\u001b[38;5;241;43m.\u001b[39;49m\u001b[43mget_fields\u001b[49m\u001b[43m(\u001b[49m\u001b[43m)\u001b[49m\u001b[38;5;241m.\u001b[39mitems():\n\u001b[1;32m    373\u001b[0m     fields[key] \u001b[38;5;241m=\u001b[39m value\n\u001b[1;32m    374\u001b[0m \u001b[38;5;28;01mreturn\u001b[39;00m fields\n",
      "File \u001b[0;32m~/Dropbox/code/Python/water/.venv/lib/python3.10/site-packages/rest_framework/serializers.py:1079\u001b[0m, in \u001b[0;36mModelSerializer.get_fields\u001b[0;34m(self)\u001b[0m\n\u001b[1;32m   1077\u001b[0m \u001b[38;5;66;03m# Retrieve metadata about fields & relationships on the model class.\u001b[39;00m\n\u001b[1;32m   1078\u001b[0m info \u001b[38;5;241m=\u001b[39m model_meta\u001b[38;5;241m.\u001b[39mget_field_info(model)\n\u001b[0;32m-> 1079\u001b[0m field_names \u001b[38;5;241m=\u001b[39m \u001b[38;5;28;43mself\u001b[39;49m\u001b[38;5;241;43m.\u001b[39;49m\u001b[43mget_field_names\u001b[49m\u001b[43m(\u001b[49m\u001b[43mdeclared_fields\u001b[49m\u001b[43m,\u001b[49m\u001b[43m \u001b[49m\u001b[43minfo\u001b[49m\u001b[43m)\u001b[49m\n\u001b[1;32m   1081\u001b[0m \u001b[38;5;66;03m# Determine any extra field arguments and hidden fields that\u001b[39;00m\n\u001b[1;32m   1082\u001b[0m \u001b[38;5;66;03m# should be included\u001b[39;00m\n\u001b[1;32m   1083\u001b[0m extra_kwargs \u001b[38;5;241m=\u001b[39m \u001b[38;5;28mself\u001b[39m\u001b[38;5;241m.\u001b[39mget_extra_kwargs()\n",
      "File \u001b[0;32m~/Dropbox/code/Python/water/.venv/lib/python3.10/site-packages/rest_framework/serializers.py:1175\u001b[0m, in \u001b[0;36mModelSerializer.get_field_names\u001b[0;34m(self, declared_fields, info)\u001b[0m\n\u001b[1;32m   1172\u001b[0m         required_field_names \u001b[38;5;241m-\u001b[39m\u001b[38;5;241m=\u001b[39m \u001b[38;5;28mset\u001b[39m(\u001b[38;5;28mgetattr\u001b[39m(\u001b[38;5;28mcls\u001b[39m, \u001b[38;5;124m'\u001b[39m\u001b[38;5;124m_declared_fields\u001b[39m\u001b[38;5;124m'\u001b[39m, []))\n\u001b[1;32m   1174\u001b[0m     \u001b[38;5;28;01mfor\u001b[39;00m field_name \u001b[38;5;129;01min\u001b[39;00m required_field_names:\n\u001b[0;32m-> 1175\u001b[0m         \u001b[38;5;28;01massert\u001b[39;00m field_name \u001b[38;5;129;01min\u001b[39;00m fields, (\n\u001b[1;32m   1176\u001b[0m             \u001b[38;5;124m\"\u001b[39m\u001b[38;5;124mThe field \u001b[39m\u001b[38;5;124m'\u001b[39m\u001b[38;5;132;01m{field_name}\u001b[39;00m\u001b[38;5;124m'\u001b[39m\u001b[38;5;124m was declared on serializer \u001b[39m\u001b[38;5;124m\"\u001b[39m\n\u001b[1;32m   1177\u001b[0m             \u001b[38;5;124m\"\u001b[39m\u001b[38;5;132;01m{serializer_class}\u001b[39;00m\u001b[38;5;124m, but has not been included in the \u001b[39m\u001b[38;5;124m\"\u001b[39m\n\u001b[1;32m   1178\u001b[0m             \u001b[38;5;124m\"\u001b[39m\u001b[38;5;124m'\u001b[39m\u001b[38;5;124mfields\u001b[39m\u001b[38;5;124m'\u001b[39m\u001b[38;5;124m option.\u001b[39m\u001b[38;5;124m\"\u001b[39m\u001b[38;5;241m.\u001b[39mformat(\n\u001b[1;32m   1179\u001b[0m                 field_name\u001b[38;5;241m=\u001b[39mfield_name,\n\u001b[1;32m   1180\u001b[0m                 serializer_class\u001b[38;5;241m=\u001b[39m\u001b[38;5;28mself\u001b[39m\u001b[38;5;241m.\u001b[39m\u001b[38;5;18m__class__\u001b[39m\u001b[38;5;241m.\u001b[39m\u001b[38;5;18m__name__\u001b[39m\n\u001b[1;32m   1181\u001b[0m             )\n\u001b[1;32m   1182\u001b[0m         )\n\u001b[1;32m   1183\u001b[0m     \u001b[38;5;28;01mreturn\u001b[39;00m fields\n\u001b[1;32m   1185\u001b[0m \u001b[38;5;66;03m# Use the default set of field names if `Meta.fields` is not specified.\u001b[39;00m\n",
      "\u001b[0;31mAssertionError\u001b[0m: The field 'reservoir_reservoirstate' was declared on serializer ReservoirStateSerializer, but has not been included in the 'fields' option."
     ]
    }
   ],
   "source": []
  },
  {
   "cell_type": "code",
   "execution_count": 4,
   "metadata": {},
   "outputs": [
    {
     "data": {
      "text/plain": [
       "'almodovar'"
      ]
     },
     "execution_count": 4,
     "metadata": {},
     "output_type": "execute_result"
    }
   ],
   "source": [
    "rs.reservoir.name"
   ]
  },
  {
   "cell_type": "code",
   "execution_count": null,
   "metadata": {},
   "outputs": [],
   "source": [
    "# Load the data from ../data/datasets/all_parsed.csv\n",
    "\n",
    "filename = '../../../../data/datasets/all_parsed.csv'\n",
    "df_raw = pd.read_csv(filename)\n",
    "\n",
    "df = df_raw.query('\"2024-01-01\" <= ds <= \"2024-01-05\"').copy()\n",
    "reservoirs = df.reservoir.unique()"
   ]
  },
  {
   "cell_type": "code",
   "execution_count": null,
   "metadata": {},
   "outputs": [],
   "source": [
    "capacities = df.groupby('reservoir')['capacity_hm3'].agg(['first', 'nunique']).reset_index()\n",
    "\n",
    "assert capacities['nunique'].max() == 1\n",
    "\n",
    "capacities"
   ]
  },
  {
   "cell_type": "code",
   "execution_count": null,
   "metadata": {},
   "outputs": [],
   "source": [
    "ReservoirState.objects.all().delete()\n",
    "Reservoir.objects.all().delete()\n",
    "\n",
    "for _, row in capacities.iterrows():\n",
    "    reservoir = Reservoir.objects.create(name=row['reservoir'], capacity=row['first'])\n",
    "    reservoir.save()\n",
    "    \n",
    "for _, row in df.iterrows():\n",
    "    reservoir = Reservoir.objects.get(name=row['reservoir'])\n",
    "    state = ReservoirState.objects.create(\n",
    "        reservoir=reservoir,\n",
    "        date=row['ds'],\n",
    "        volume=row['stored_hm3'],\n",
    "    )\n",
    "    state.save()"
   ]
  },
  {
   "cell_type": "code",
   "execution_count": null,
   "metadata": {},
   "outputs": [],
   "source": [
    "ReservoirState.objects.all()[0:5]"
   ]
  },
  {
   "cell_type": "code",
   "execution_count": null,
   "metadata": {},
   "outputs": [],
   "source": []
  },
  {
   "cell_type": "code",
   "execution_count": null,
   "metadata": {},
   "outputs": [],
   "source": []
  }
 ],
 "metadata": {
  "kernelspec": {
   "display_name": "Python 3 (ipykernel)",
   "language": "python",
   "name": "python3"
  },
  "language_info": {
   "codemirror_mode": {
    "name": "ipython",
    "version": 3
   },
   "file_extension": ".py",
   "mimetype": "text/x-python",
   "name": "python",
   "nbconvert_exporter": "python",
   "pygments_lexer": "ipython3",
   "version": "3.10.13"
  }
 },
 "nbformat": 4,
 "nbformat_minor": 2
}
