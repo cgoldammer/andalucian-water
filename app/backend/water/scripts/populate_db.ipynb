{
 "cells": [
  {
   "cell_type": "code",
   "execution_count": 8,
   "metadata": {},
   "outputs": [],
   "source": [
    "from PIL import Image\n",
    "import requests\n",
    "import numpy as np\n",
    "from PIL import Image\n",
    "\n",
    "import pandas as pd \n",
    "import geopandas as gpd\n",
    "# import osmnx as ox\n",
    "# import networkx as nx\n",
    "\n",
    "import pyproj\n",
    "from shapely.ops import transform\n",
    "\n",
    "import shapely\n",
    "from shapely import Point\n",
    "\n",
    "# import boto3\n",
    "import os\n",
    "import django\n",
    "\n",
    "pd.set_option('display.precision', 2)\n",
    "\n",
    "os.environ.setdefault(\"DJANGO_SETTINGS_MODULE\", \"water.settings\")\n",
    "os.environ[\"DJANGO_ALLOW_ASYNC_UNSAFE\"] = \"true\"\n",
    "django.setup()\n",
    "\n",
    "from water.models import ReservoirState, Reservoir, ReservoirStateSerializer, RainFall\n",
    "from django.db.models import Count\n",
    "\n",
    "from water.utils import parse as p"
   ]
  },
  {
   "cell_type": "code",
   "execution_count": 2,
   "metadata": {},
   "outputs": [],
   "source": [
    "filename_all = '../../../../data/datasets/all_parsed_cleaned.csv'\n",
    "df_all_raw = pd.read_csv(filename_all).sort_values(['province', 'reservoir', 'ds'])"
   ]
  },
  {
   "cell_type": "code",
   "execution_count": 3,
   "metadata": {},
   "outputs": [
    {
     "data": {
      "text/plain": [
       "array([24.7, 22.3])"
      ]
     },
     "execution_count": 3,
     "metadata": {},
     "output_type": "execute_result"
    }
   ],
   "source": [
    "capacities = df_all_raw.groupby(['province', 'reservoir'])['capacity_hm3'].agg(['last', 'nunique']).reset_index()\n",
    "\n",
    "df_all_raw.query('reservoir==\"el limonero\"').capacity_hm3.unique()"
   ]
  },
  {
   "cell_type": "code",
   "execution_count": 42,
   "metadata": {},
   "outputs": [
    {
     "data": {
      "text/html": [
       "<div>\n",
       "<style scoped>\n",
       "    .dataframe tbody tr th:only-of-type {\n",
       "        vertical-align: middle;\n",
       "    }\n",
       "\n",
       "    .dataframe tbody tr th {\n",
       "        vertical-align: top;\n",
       "    }\n",
       "\n",
       "    .dataframe thead th {\n",
       "        text-align: right;\n",
       "    }\n",
       "</style>\n",
       "<table border=\"1\" class=\"dataframe\">\n",
       "  <thead>\n",
       "    <tr style=\"text-align: right;\">\n",
       "      <th></th>\n",
       "      <th>province</th>\n",
       "      <th>reservoir</th>\n",
       "      <th>last</th>\n",
       "      <th>nunique</th>\n",
       "    </tr>\n",
       "  </thead>\n",
       "  <tbody>\n",
       "    <tr>\n",
       "      <th>63</th>\n",
       "      <td>malaga</td>\n",
       "      <td>la vinnuela</td>\n",
       "      <td>165.4</td>\n",
       "      <td>1</td>\n",
       "    </tr>\n",
       "    <tr>\n",
       "      <th>61</th>\n",
       "      <td>malaga</td>\n",
       "      <td>guadalteba</td>\n",
       "      <td>153.3</td>\n",
       "      <td>1</td>\n",
       "    </tr>\n",
       "    <tr>\n",
       "      <th>60</th>\n",
       "      <td>malaga</td>\n",
       "      <td>guadalhorce</td>\n",
       "      <td>125.7</td>\n",
       "      <td>1</td>\n",
       "    </tr>\n",
       "    <tr>\n",
       "      <th>58</th>\n",
       "      <td>malaga</td>\n",
       "      <td>conde de guadalhorce</td>\n",
       "      <td>66.5</td>\n",
       "      <td>1</td>\n",
       "    </tr>\n",
       "    <tr>\n",
       "      <th>62</th>\n",
       "      <td>malaga</td>\n",
       "      <td>la concepcion</td>\n",
       "      <td>61.9</td>\n",
       "      <td>1</td>\n",
       "    </tr>\n",
       "  </tbody>\n",
       "</table>\n",
       "</div>"
      ],
      "text/plain": [
       "   province             reservoir   last  nunique\n",
       "63   malaga           la vinnuela  165.4        1\n",
       "61   malaga            guadalteba  153.3        1\n",
       "60   malaga           guadalhorce  125.7        1\n",
       "58   malaga  conde de guadalhorce   66.5        1\n",
       "62   malaga         la concepcion   61.9        1"
      ]
     },
     "execution_count": 42,
     "metadata": {},
     "output_type": "execute_result"
    }
   ],
   "source": [
    "ds_start = \"2012-09-01\"\n",
    "province = \"malaga\"\n",
    "num_states = 10000\n",
    "num_res_max = 5\n",
    "\n",
    "capacities = df_all_raw.groupby(['province', 'reservoir'])['capacity_hm3'].agg(['last', 'nunique']).reset_index()\n",
    "capacities = capacities[capacities.province == province].copy()\n",
    "capacities = capacities.sort_values('last', ascending=False).head(num_res_max)\n",
    "# capacities = capacities[capacities['nunique'] ==1].copy()\n",
    "# assert capacities['nunique'].max() == 1\n",
    "capacities\n",
    "\n",
    "df_selected = df_all_raw[df_all_raw.reservoir.isin(capacities.reservoir.unique())]\n",
    "df_selected = df_selected[df_selected.ds >= ds_start].copy()\n",
    "\n",
    "capacities"
   ]
  },
  {
   "cell_type": "code",
   "execution_count": 43,
   "metadata": {},
   "outputs": [
    {
     "data": {
      "text/plain": [
       "'2012-09-01'"
      ]
     },
     "execution_count": 43,
     "metadata": {},
     "output_type": "execute_result"
    }
   ],
   "source": [
    "df_selected.ds.min()"
   ]
  },
  {
   "cell_type": "code",
   "execution_count": 44,
   "metadata": {},
   "outputs": [
    {
     "name": "stdout",
     "output_type": "stream",
     "text": [
      "2859\n"
     ]
    },
    {
     "data": {
      "text/plain": [
       "2859"
      ]
     },
     "execution_count": 44,
     "metadata": {},
     "output_type": "execute_result"
    }
   ],
   "source": [
    "ReservoirState.objects.all().delete()\n",
    "Reservoir.objects.all().delete()\n",
    "\n",
    "for _, row in capacities.iterrows():\n",
    "    reservoir = Reservoir.objects.create(name=row['reservoir'], capacity=row['last'])\n",
    "    reservoir.save()\n",
    "    \n",
    "print(len(df_selected))\n",
    "    \n",
    "for _, row in df_selected.head(num_states).iterrows():\n",
    "    reservoir = Reservoir.objects.get(name=row['reservoir'])\n",
    "    state = ReservoirState.objects.create(\n",
    "        reservoir=reservoir,\n",
    "        date=row['ds'],\n",
    "        volume=row['stored_hm3'],\n",
    "    )\n",
    "    state.save()\n",
    "    \n",
    "ReservoirState.objects.all().count()"
   ]
  },
  {
   "cell_type": "code",
   "execution_count": 45,
   "metadata": {},
   "outputs": [
    {
     "data": {
      "text/plain": [
       "(2859, 2859)"
      ]
     },
     "execution_count": 45,
     "metadata": {},
     "output_type": "execute_result"
    }
   ],
   "source": [
    "df_all = p.add_cols(df_selected)\n",
    "df_all['date_lag'] = df_all.groupby(['province', 'reservoir'])['date'].shift(1)\n",
    "df_all['date_diff'] = (df_all.date - df_all.date_lag).dt.days\n",
    "\n",
    "cols = ['rainfallsince', 'stored_hm3', 'capacity_hm3']\n",
    "for var in ['rainfallsince', 'stored_hm3']:\n",
    "    df_all[f'{var}_diff'] = df_all.groupby(['province', 'reservoir'])[var].diff()\n",
    "    df_all[f'{var}_diff_0'] = df_all[f'{var}_diff']\n",
    "    for lags in range(1, 10):\n",
    "        df_all[f'{var}_diff_{lags}'] = df_all.groupby(['province', 'reservoir'])[f'{var}_diff'].shift(lags)\n",
    "\n",
    "# Delete all rainfall objects\n",
    "RainFall.objects.all().delete()\n",
    "\n",
    "# Get all reservoirs with state data\n",
    "reservoirs = Reservoir.objects.annotate(\n",
    "        num_states=Count(\"reservoir_reservoirstate\")\n",
    "    ).filter(num_states__gt=0)\n",
    "\n",
    "reservoir_names = reservoirs.values_list('name', flat=True)\n",
    "\n",
    "for _, row in df_all[df_all.reservoir.isin(reservoir_names)].head(num_states).iterrows():\n",
    "    reservoir = Reservoir.objects.get(name=row['reservoir'])\n",
    "    rainfall = RainFall.objects.create(\n",
    "        date=row['ds'],\n",
    "        reservoir=reservoir,\n",
    "        amount=row['rainfallsince_diff'],\n",
    "        amount_cumulative=row['rainfallsince'],\n",
    "        amount_cumulative_historical=row['avgrainfall1971_2000'],\n",
    "    )\n",
    "len(df_all), RainFall.objects.all().count()"
   ]
  },
  {
   "cell_type": "code",
   "execution_count": 46,
   "metadata": {},
   "outputs": [
    {
     "data": {
      "text/html": [
       "<div>\n",
       "<style scoped>\n",
       "    .dataframe tbody tr th:only-of-type {\n",
       "        vertical-align: middle;\n",
       "    }\n",
       "\n",
       "    .dataframe tbody tr th {\n",
       "        vertical-align: top;\n",
       "    }\n",
       "\n",
       "    .dataframe thead th {\n",
       "        text-align: right;\n",
       "    }\n",
       "</style>\n",
       "<table border=\"1\" class=\"dataframe\">\n",
       "  <thead>\n",
       "    <tr style=\"text-align: right;\">\n",
       "      <th></th>\n",
       "      <th>reservoir</th>\n",
       "      <th>date</th>\n",
       "      <th>rainfallsince</th>\n",
       "    </tr>\n",
       "  </thead>\n",
       "  <tbody>\n",
       "    <tr>\n",
       "      <th>10338</th>\n",
       "      <td>conde de guadalhorce</td>\n",
       "      <td>2012-09-01</td>\n",
       "      <td>269.7</td>\n",
       "    </tr>\n",
       "    <tr>\n",
       "      <th>10411</th>\n",
       "      <td>conde de guadalhorce</td>\n",
       "      <td>2014-09-01</td>\n",
       "      <td>241.9</td>\n",
       "    </tr>\n",
       "    <tr>\n",
       "      <th>10453</th>\n",
       "      <td>conde de guadalhorce</td>\n",
       "      <td>2015-09-01</td>\n",
       "      <td>334.1</td>\n",
       "    </tr>\n",
       "    <tr>\n",
       "      <th>10476</th>\n",
       "      <td>conde de guadalhorce</td>\n",
       "      <td>2016-09-01</td>\n",
       "      <td>323.2</td>\n",
       "    </tr>\n",
       "    <tr>\n",
       "      <th>10722</th>\n",
       "      <td>conde de guadalhorce</td>\n",
       "      <td>2023-09-01</td>\n",
       "      <td>195.8</td>\n",
       "    </tr>\n",
       "    <tr>\n",
       "      <th>18432</th>\n",
       "      <td>guadalhorce</td>\n",
       "      <td>2012-09-01</td>\n",
       "      <td>242.5</td>\n",
       "    </tr>\n",
       "    <tr>\n",
       "      <th>18464</th>\n",
       "      <td>guadalhorce</td>\n",
       "      <td>2013-09-01</td>\n",
       "      <td>624.7</td>\n",
       "    </tr>\n",
       "    <tr>\n",
       "      <th>18495</th>\n",
       "      <td>guadalhorce</td>\n",
       "      <td>2014-09-01</td>\n",
       "      <td>234.9</td>\n",
       "    </tr>\n",
       "    <tr>\n",
       "      <th>18537</th>\n",
       "      <td>guadalhorce</td>\n",
       "      <td>2015-09-01</td>\n",
       "      <td>296.9</td>\n",
       "    </tr>\n",
       "    <tr>\n",
       "      <th>18560</th>\n",
       "      <td>guadalhorce</td>\n",
       "      <td>2016-09-01</td>\n",
       "      <td>334.9</td>\n",
       "    </tr>\n",
       "    <tr>\n",
       "      <th>18572</th>\n",
       "      <td>guadalhorce</td>\n",
       "      <td>2017-09-01</td>\n",
       "      <td>373.7</td>\n",
       "    </tr>\n",
       "    <tr>\n",
       "      <th>18583</th>\n",
       "      <td>guadalhorce</td>\n",
       "      <td>2018-09-01</td>\n",
       "      <td>411.8</td>\n",
       "    </tr>\n",
       "    <tr>\n",
       "      <th>18594</th>\n",
       "      <td>guadalhorce</td>\n",
       "      <td>2021-09-01</td>\n",
       "      <td>348.1</td>\n",
       "    </tr>\n",
       "    <tr>\n",
       "      <th>18605</th>\n",
       "      <td>guadalhorce</td>\n",
       "      <td>2022-09-01</td>\n",
       "      <td>504.7</td>\n",
       "    </tr>\n",
       "    <tr>\n",
       "      <th>18849</th>\n",
       "      <td>guadalhorce</td>\n",
       "      <td>2023-09-01</td>\n",
       "      <td>214.3</td>\n",
       "    </tr>\n",
       "    <tr>\n",
       "      <th>20176</th>\n",
       "      <td>guadalteba</td>\n",
       "      <td>2012-09-01</td>\n",
       "      <td>242.5</td>\n",
       "    </tr>\n",
       "    <tr>\n",
       "      <th>20218</th>\n",
       "      <td>guadalteba</td>\n",
       "      <td>2013-09-01</td>\n",
       "      <td>624.7</td>\n",
       "    </tr>\n",
       "    <tr>\n",
       "      <th>20259</th>\n",
       "      <td>guadalteba</td>\n",
       "      <td>2014-09-01</td>\n",
       "      <td>234.9</td>\n",
       "    </tr>\n",
       "    <tr>\n",
       "      <th>20301</th>\n",
       "      <td>guadalteba</td>\n",
       "      <td>2015-09-01</td>\n",
       "      <td>296.9</td>\n",
       "    </tr>\n",
       "    <tr>\n",
       "      <th>20326</th>\n",
       "      <td>guadalteba</td>\n",
       "      <td>2017-09-01</td>\n",
       "      <td>373.7</td>\n",
       "    </tr>\n",
       "    <tr>\n",
       "      <th>20337</th>\n",
       "      <td>guadalteba</td>\n",
       "      <td>2018-09-01</td>\n",
       "      <td>411.8</td>\n",
       "    </tr>\n",
       "    <tr>\n",
       "      <th>20348</th>\n",
       "      <td>guadalteba</td>\n",
       "      <td>2019-09-01</td>\n",
       "      <td>522.9</td>\n",
       "    </tr>\n",
       "    <tr>\n",
       "      <th>20359</th>\n",
       "      <td>guadalteba</td>\n",
       "      <td>2020-09-01</td>\n",
       "      <td>317.0</td>\n",
       "    </tr>\n",
       "    <tr>\n",
       "      <th>20370</th>\n",
       "      <td>guadalteba</td>\n",
       "      <td>2021-09-01</td>\n",
       "      <td>348.1</td>\n",
       "    </tr>\n",
       "    <tr>\n",
       "      <th>20381</th>\n",
       "      <td>guadalteba</td>\n",
       "      <td>2022-09-01</td>\n",
       "      <td>504.7</td>\n",
       "    </tr>\n",
       "    <tr>\n",
       "      <th>20625</th>\n",
       "      <td>guadalteba</td>\n",
       "      <td>2023-09-01</td>\n",
       "      <td>214.3</td>\n",
       "    </tr>\n",
       "    <tr>\n",
       "      <th>25918</th>\n",
       "      <td>la concepcion</td>\n",
       "      <td>2012-09-01</td>\n",
       "      <td>477.4</td>\n",
       "    </tr>\n",
       "    <tr>\n",
       "      <th>25960</th>\n",
       "      <td>la concepcion</td>\n",
       "      <td>2013-09-01</td>\n",
       "      <td>833.4</td>\n",
       "    </tr>\n",
       "    <tr>\n",
       "      <th>26001</th>\n",
       "      <td>la concepcion</td>\n",
       "      <td>2014-09-01</td>\n",
       "      <td>318.4</td>\n",
       "    </tr>\n",
       "    <tr>\n",
       "      <th>26043</th>\n",
       "      <td>la concepcion</td>\n",
       "      <td>2015-09-01</td>\n",
       "      <td>550.0</td>\n",
       "    </tr>\n",
       "    <tr>\n",
       "      <th>26298</th>\n",
       "      <td>la concepcion</td>\n",
       "      <td>2023-09-01</td>\n",
       "      <td>414.6</td>\n",
       "    </tr>\n",
       "    <tr>\n",
       "      <th>27611</th>\n",
       "      <td>la vinnuela</td>\n",
       "      <td>2012-09-01</td>\n",
       "      <td>351.9</td>\n",
       "    </tr>\n",
       "    <tr>\n",
       "      <th>27653</th>\n",
       "      <td>la vinnuela</td>\n",
       "      <td>2013-09-01</td>\n",
       "      <td>601.7</td>\n",
       "    </tr>\n",
       "    <tr>\n",
       "      <th>27694</th>\n",
       "      <td>la vinnuela</td>\n",
       "      <td>2014-09-01</td>\n",
       "      <td>192.3</td>\n",
       "    </tr>\n",
       "    <tr>\n",
       "      <th>27736</th>\n",
       "      <td>la vinnuela</td>\n",
       "      <td>2015-09-01</td>\n",
       "      <td>295.5</td>\n",
       "    </tr>\n",
       "    <tr>\n",
       "      <th>27759</th>\n",
       "      <td>la vinnuela</td>\n",
       "      <td>2016-09-01</td>\n",
       "      <td>302.0</td>\n",
       "    </tr>\n",
       "    <tr>\n",
       "      <th>27771</th>\n",
       "      <td>la vinnuela</td>\n",
       "      <td>2017-09-01</td>\n",
       "      <td>358.8</td>\n",
       "    </tr>\n",
       "    <tr>\n",
       "      <th>27782</th>\n",
       "      <td>la vinnuela</td>\n",
       "      <td>2018-09-01</td>\n",
       "      <td>432.2</td>\n",
       "    </tr>\n",
       "    <tr>\n",
       "      <th>27793</th>\n",
       "      <td>la vinnuela</td>\n",
       "      <td>2019-09-01</td>\n",
       "      <td>360.5</td>\n",
       "    </tr>\n",
       "    <tr>\n",
       "      <th>27804</th>\n",
       "      <td>la vinnuela</td>\n",
       "      <td>2020-09-01</td>\n",
       "      <td>388.3</td>\n",
       "    </tr>\n",
       "    <tr>\n",
       "      <th>27815</th>\n",
       "      <td>la vinnuela</td>\n",
       "      <td>2021-09-01</td>\n",
       "      <td>338.3</td>\n",
       "    </tr>\n",
       "    <tr>\n",
       "      <th>27826</th>\n",
       "      <td>la vinnuela</td>\n",
       "      <td>2022-09-01</td>\n",
       "      <td>239.7</td>\n",
       "    </tr>\n",
       "    <tr>\n",
       "      <th>28070</th>\n",
       "      <td>la vinnuela</td>\n",
       "      <td>2023-09-01</td>\n",
       "      <td>214.9</td>\n",
       "    </tr>\n",
       "  </tbody>\n",
       "</table>\n",
       "</div>"
      ],
      "text/plain": [
       "                  reservoir       date  rainfallsince\n",
       "10338  conde de guadalhorce 2012-09-01          269.7\n",
       "10411  conde de guadalhorce 2014-09-01          241.9\n",
       "10453  conde de guadalhorce 2015-09-01          334.1\n",
       "10476  conde de guadalhorce 2016-09-01          323.2\n",
       "10722  conde de guadalhorce 2023-09-01          195.8\n",
       "18432           guadalhorce 2012-09-01          242.5\n",
       "18464           guadalhorce 2013-09-01          624.7\n",
       "18495           guadalhorce 2014-09-01          234.9\n",
       "18537           guadalhorce 2015-09-01          296.9\n",
       "18560           guadalhorce 2016-09-01          334.9\n",
       "18572           guadalhorce 2017-09-01          373.7\n",
       "18583           guadalhorce 2018-09-01          411.8\n",
       "18594           guadalhorce 2021-09-01          348.1\n",
       "18605           guadalhorce 2022-09-01          504.7\n",
       "18849           guadalhorce 2023-09-01          214.3\n",
       "20176            guadalteba 2012-09-01          242.5\n",
       "20218            guadalteba 2013-09-01          624.7\n",
       "20259            guadalteba 2014-09-01          234.9\n",
       "20301            guadalteba 2015-09-01          296.9\n",
       "20326            guadalteba 2017-09-01          373.7\n",
       "20337            guadalteba 2018-09-01          411.8\n",
       "20348            guadalteba 2019-09-01          522.9\n",
       "20359            guadalteba 2020-09-01          317.0\n",
       "20370            guadalteba 2021-09-01          348.1\n",
       "20381            guadalteba 2022-09-01          504.7\n",
       "20625            guadalteba 2023-09-01          214.3\n",
       "25918         la concepcion 2012-09-01          477.4\n",
       "25960         la concepcion 2013-09-01          833.4\n",
       "26001         la concepcion 2014-09-01          318.4\n",
       "26043         la concepcion 2015-09-01          550.0\n",
       "26298         la concepcion 2023-09-01          414.6\n",
       "27611           la vinnuela 2012-09-01          351.9\n",
       "27653           la vinnuela 2013-09-01          601.7\n",
       "27694           la vinnuela 2014-09-01          192.3\n",
       "27736           la vinnuela 2015-09-01          295.5\n",
       "27759           la vinnuela 2016-09-01          302.0\n",
       "27771           la vinnuela 2017-09-01          358.8\n",
       "27782           la vinnuela 2018-09-01          432.2\n",
       "27793           la vinnuela 2019-09-01          360.5\n",
       "27804           la vinnuela 2020-09-01          388.3\n",
       "27815           la vinnuela 2021-09-01          338.3\n",
       "27826           la vinnuela 2022-09-01          239.7\n",
       "28070           la vinnuela 2023-09-01          214.9"
      ]
     },
     "execution_count": 46,
     "metadata": {},
     "output_type": "execute_result"
    }
   ],
   "source": [
    "df_rain = df_all[df_all.reservoir.isin(reservoir_names)].head(num_states)\n",
    "df_rain[df_rain.ds.str.endswith('09-01')][['reservoir', 'date', 'rainfallsince']]"
   ]
  },
  {
   "cell_type": "code",
   "execution_count": 25,
   "metadata": {},
   "outputs": [
    {
     "data": {
      "text/plain": [
       "(774, 796)"
      ]
     },
     "execution_count": 25,
     "metadata": {},
     "output_type": "execute_result"
    }
   ],
   "source": [
    "RainFall.objects.all().count(), ReservoirState.objects.all().count()"
   ]
  },
  {
   "cell_type": "code",
   "execution_count": 47,
   "metadata": {},
   "outputs": [
    {
     "data": {
      "text/plain": [
       "datetime.date(2012, 9, 1)"
      ]
     },
     "execution_count": 47,
     "metadata": {},
     "output_type": "execute_result"
    }
   ],
   "source": [
    "ReservoirState.objects.all()[0].date"
   ]
  },
  {
   "cell_type": "code",
   "execution_count": 27,
   "metadata": {},
   "outputs": [
    {
     "data": {
      "text/plain": [
       "datetime.date(2022, 9, 1)"
      ]
     },
     "execution_count": 27,
     "metadata": {},
     "output_type": "execute_result"
    }
   ],
   "source": [
    "# Get the min data in reservoirstate\n",
    "min_date = ReservoirState.objects.all().order_by('date').first().date\n",
    "min_date"
   ]
  },
  {
   "cell_type": "code",
   "execution_count": 15,
   "metadata": {},
   "outputs": [
    {
     "data": {
      "text/plain": [
       "7"
      ]
     },
     "execution_count": 15,
     "metadata": {},
     "output_type": "execute_result"
    }
   ],
   "source": [
    "rs = ReservoirState.objects.all()\n",
    "date = '2023-09-01'\n",
    "\n",
    "# Find all rs with that date\n",
    "rs.filter(date=date).count()"
   ]
  },
  {
   "cell_type": "code",
   "execution_count": null,
   "metadata": {},
   "outputs": [],
   "source": []
  }
 ],
 "metadata": {
  "kernelspec": {
   "display_name": "Python 3 (ipykernel)",
   "language": "python",
   "name": "python3"
  },
  "language_info": {
   "codemirror_mode": {
    "name": "ipython",
    "version": 3
   },
   "file_extension": ".py",
   "mimetype": "text/x-python",
   "name": "python",
   "nbconvert_exporter": "python",
   "pygments_lexer": "ipython3",
   "version": "3.10.13"
  }
 },
 "nbformat": 4,
 "nbformat_minor": 2
}
