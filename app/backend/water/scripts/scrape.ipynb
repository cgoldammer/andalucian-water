{
 "cells": [
  {
   "cell_type": "code",
   "execution_count": 1,
   "metadata": {},
   "outputs": [],
   "source": [
    "# type: ignore\n",
    "\n",
    "import pandas as pd\n",
    "import water.utils.parse as p\n",
    "import os\n",
    "import numpy as np\n",
    "import boto3\n",
    "import importlib"
   ]
  },
  {
   "cell_type": "code",
   "execution_count": 27,
   "metadata": {},
   "outputs": [
    {
     "name": "stdout",
     "output_type": "stream",
     "text": [
      "Downloaded 2024_12_25.pdf\n",
      "Downloaded 2024_12_26.pdf\n",
      "Downloaded 2024_12_27.pdf\n",
      "Downloaded 2024_12_28.pdf\n",
      "Downloaded 2024_12_29.pdf\n"
     ]
    }
   ],
   "source": [
    "import water.utils.scrape as ws\n",
    "\n",
    "importlib.reload(ws)\n",
    "\n",
    "ws.update(start_date='2024-12-25', overwrite=True)"
   ]
  },
  {
   "cell_type": "code",
   "execution_count": 18,
   "metadata": {},
   "outputs": [
    {
     "name": "stdout",
     "output_type": "stream",
     "text": [
      "2024_11_08.pdf skipped\n",
      "Downloaded 2024_11_09.pdf\n",
      "Downloaded 2024_11_10.pdf\n",
      "Downloaded 2024_11_11.pdf\n",
      "Downloaded 2024_11_12.pdf\n",
      "Downloaded 2024_11_13.pdf\n",
      "Downloaded 2024_11_14.pdf\n",
      "Downloaded 2024_11_15.pdf\n",
      "Downloaded 2024_11_16.pdf\n",
      "Downloaded 2024_11_17.pdf\n",
      "Downloaded 2024_11_18.pdf\n",
      "Downloaded 2024_11_19.pdf\n",
      "Downloaded 2024_11_20.pdf\n",
      "Downloaded 2024_11_21.pdf\n",
      "Downloaded 2024_11_22.pdf\n",
      "Downloaded 2024_11_23.pdf\n",
      "Downloaded 2024_11_24.pdf\n",
      "Downloaded 2024_11_25.pdf\n",
      "Downloaded 2024_11_26.pdf\n",
      "Downloaded 2024_11_27.pdf\n",
      "Downloaded 2024_11_28.pdf\n",
      "Downloaded 2024_11_29.pdf\n",
      "Downloaded 2024_11_30.pdf\n",
      "Downloaded 2024_12_01.pdf\n",
      "Downloaded 2024_12_02.pdf\n",
      "Downloaded 2024_12_03.pdf\n",
      "Downloaded 2024_12_04.pdf\n",
      "Downloaded 2024_12_05.pdf\n",
      "Downloaded 2024_12_06.pdf\n",
      "Downloaded 2024_12_07.pdf\n",
      "Downloaded 2024_12_08.pdf\n",
      "Downloaded 2024_12_09.pdf\n",
      "Downloaded 2024_12_10.pdf\n",
      "Downloaded 2024_12_11.pdf\n",
      "Downloaded 2024_12_12.pdf\n",
      "Downloaded 2024_12_13.pdf\n",
      "Downloaded 2024_12_14.pdf\n",
      "Downloaded 2024_12_15.pdf\n",
      "Downloaded 2024_12_16.pdf\n",
      "Downloaded 2024_12_17.pdf\n",
      "Downloaded 2024_12_18.pdf\n",
      "Downloaded 2024_12_19.pdf\n",
      "Downloaded 2024_12_20.pdf\n",
      "Downloaded 2024_12_21.pdf\n",
      "Downloaded 2024_12_22.pdf\n",
      "Downloaded 2024_12_23.pdf\n",
      "Downloaded 2024_12_24.pdf\n",
      "Downloaded 2024_12_25.pdf\n",
      "Downloaded 2024_12_26.pdf\n",
      "Downloaded 2024_12_27.pdf\n",
      "Downloaded 2024_12_28.pdf\n",
      "Downloaded 2024_12_29.pdf\n"
     ]
    }
   ],
   "source": [
    "start_date = ws.get_most_recent_date()\n",
    "end_date = pd.Timestamp.today().strftime('%Y-%m-%d')\n",
    "\n",
    "\n",
    "\n",
    "dates_in_range = pd.date_range(start_date, end_date, freq='D')\n",
    "\n",
    "folder_download = p.folder_raw\n",
    "\n",
    "for date in dates_in_range:\n",
    "    date_str = date.strftime('%Y_%m_%d')\n",
    "    file = f'{date_str}.pdf'\n",
    "    filename_full = os.path.join(folder_download, file)\n",
    "    if not os.path.exists(filename_full):\n",
    "        response = requests.get(url(date_str))\n",
    "        with open(filename_full, 'wb') as f:\n",
    "            f.write(response.content)\n",
    "        print(\"Downloaded\", file)\n",
    "    else:\n",
    "        print(f'{file} skipped')"
   ]
  },
  {
   "cell_type": "code",
   "execution_count": 17,
   "metadata": {},
   "outputs": [
    {
     "data": {
      "text/plain": [
       "'/Users/cg/Dropbox/code/Python/water/data/input/reserva/2024-12-29.pdf'"
      ]
     },
     "execution_count": 17,
     "metadata": {},
     "output_type": "execute_result"
    }
   ],
   "source": [
    "filename_full\n"
   ]
  },
  {
   "cell_type": "code",
   "execution_count": null,
   "metadata": {},
   "outputs": [],
   "source": []
  }
 ],
 "metadata": {
  "kernelspec": {
   "display_name": "Python 3 (ipykernel)",
   "language": "python",
   "name": "python3"
  },
  "language_info": {
   "codemirror_mode": {
    "name": "ipython",
    "version": 3
   },
   "file_extension": ".py",
   "mimetype": "text/x-python",
   "name": "python",
   "nbconvert_exporter": "python",
   "pygments_lexer": "ipython3",
   "version": "3.10.16"
  }
 },
 "nbformat": 4,
 "nbformat_minor": 2
}
